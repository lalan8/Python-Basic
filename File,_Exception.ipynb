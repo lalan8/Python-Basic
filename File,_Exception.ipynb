{
  "nbformat": 4,
  "nbformat_minor": 0,
  "metadata": {
    "colab": {
      "provenance": []
    },
    "kernelspec": {
      "name": "python3",
      "display_name": "Python 3"
    },
    "language_info": {
      "name": "python"
    }
  },
  "cells": [
    {
      "cell_type": "code",
      "execution_count": 2,
      "metadata": {
        "id": "ptohrrLbEs93"
      },
      "outputs": [],
      "source": [
        "# 1.How can you open a file for writing in Python and write a string to it\n",
        "\n",
        "file = open(\"example.txt\", \"w\")\n",
        "file.write(\"Hello, world!\")\n",
        "file.close()"
      ]
    },
    {
      "cell_type": "code",
      "source": [
        "# 2.Write a Python program to read the contents of a file and print each line\n",
        "\n",
        "file = open(\"example.txt\", \"r\")\n",
        "lines = file.readlines()\n",
        "for line in lines:\n",
        "    print(line)\n",
        "file.close()"
      ],
      "metadata": {
        "colab": {
          "base_uri": "https://localhost:8080/"
        },
        "id": "QK4AML0FE6UC",
        "outputId": "65bc42f7-b684-47db-dd51-ce9e78d02050"
      },
      "execution_count": 3,
      "outputs": [
        {
          "output_type": "stream",
          "name": "stdout",
          "text": [
            "Hello, world!\n"
          ]
        }
      ]
    },
    {
      "cell_type": "code",
      "source": [
        "# 3.How would you handle a case where the file doesn't exist while trying to open it for reading\n",
        "\n",
        "try:\n",
        "    file = open(\"nonexistent.txt\", \"r\")\n",
        "    lines = file.readlines()\n",
        "    for line in lines:\n",
        "        print(line)\n",
        "    file.close()\n",
        "except FileNotFoundError:\n",
        "    print(\"The file does not exist.\")"
      ],
      "metadata": {
        "colab": {
          "base_uri": "https://localhost:8080/"
        },
        "id": "UskUNLvLFGuN",
        "outputId": "effca78f-feaa-4f9c-c76b-cadb4fe64ffa"
      },
      "execution_count": 4,
      "outputs": [
        {
          "output_type": "stream",
          "name": "stdout",
          "text": [
            "The file does not exist.\n"
          ]
        }
      ]
    },
    {
      "cell_type": "code",
      "source": [
        "# 4. Write a Python script that reads from one file and writes its content to another file\n",
        "\n",
        "file1 = open(\"file1.txt\", \"r\")\n",
        "file2 = open(\"file2.txt\", \"w\")\n",
        "content = file1.read()\n",
        "file2.write(content)\n",
        "file1.close()\n",
        "file2.close()"
      ],
      "metadata": {
        "colab": {
          "base_uri": "https://localhost:8080/",
          "height": 211
        },
        "id": "3hiLP2pWFUXQ",
        "outputId": "c194fea0-01aa-42d2-fc27-d67f8f520dc9"
      },
      "execution_count": 5,
      "outputs": [
        {
          "output_type": "error",
          "ename": "FileNotFoundError",
          "evalue": "[Errno 2] No such file or directory: 'file1.txt'",
          "traceback": [
            "\u001b[0;31m---------------------------------------------------------------------------\u001b[0m",
            "\u001b[0;31mFileNotFoundError\u001b[0m                         Traceback (most recent call last)",
            "\u001b[0;32m/tmp/ipython-input-4212135874.py\u001b[0m in \u001b[0;36m<cell line: 0>\u001b[0;34m()\u001b[0m\n\u001b[1;32m      1\u001b[0m \u001b[0;31m# 4. Write a Python script that reads from one file and writes its content to another file\u001b[0m\u001b[0;34m\u001b[0m\u001b[0;34m\u001b[0m\u001b[0m\n\u001b[1;32m      2\u001b[0m \u001b[0;34m\u001b[0m\u001b[0m\n\u001b[0;32m----> 3\u001b[0;31m \u001b[0mfile1\u001b[0m \u001b[0;34m=\u001b[0m \u001b[0mopen\u001b[0m\u001b[0;34m(\u001b[0m\u001b[0;34m\"file1.txt\"\u001b[0m\u001b[0;34m,\u001b[0m \u001b[0;34m\"r\"\u001b[0m\u001b[0;34m)\u001b[0m\u001b[0;34m\u001b[0m\u001b[0;34m\u001b[0m\u001b[0m\n\u001b[0m\u001b[1;32m      4\u001b[0m \u001b[0mfile2\u001b[0m \u001b[0;34m=\u001b[0m \u001b[0mopen\u001b[0m\u001b[0;34m(\u001b[0m\u001b[0;34m\"file2.txt\"\u001b[0m\u001b[0;34m,\u001b[0m \u001b[0;34m\"w\"\u001b[0m\u001b[0;34m)\u001b[0m\u001b[0;34m\u001b[0m\u001b[0;34m\u001b[0m\u001b[0m\n\u001b[1;32m      5\u001b[0m \u001b[0mcontent\u001b[0m \u001b[0;34m=\u001b[0m \u001b[0mfile1\u001b[0m\u001b[0;34m.\u001b[0m\u001b[0mread\u001b[0m\u001b[0;34m(\u001b[0m\u001b[0;34m)\u001b[0m\u001b[0;34m\u001b[0m\u001b[0;34m\u001b[0m\u001b[0m\n",
            "\u001b[0;31mFileNotFoundError\u001b[0m: [Errno 2] No such file or directory: 'file1.txt'"
          ]
        }
      ]
    },
    {
      "cell_type": "code",
      "source": [
        "# 5. How would you catch and handle division by zero error in Python\n",
        "\n",
        "try:\n",
        "    result = 10 / 0\n",
        "except ZeroDivisionError:\n",
        "    print(\"Error: Division by zero\")"
      ],
      "metadata": {
        "colab": {
          "base_uri": "https://localhost:8080/"
        },
        "id": "Qd_8JiRbFccd",
        "outputId": "b0d4f09b-2fae-45bf-85ed-90b4b8fddffe"
      },
      "execution_count": 6,
      "outputs": [
        {
          "output_type": "stream",
          "name": "stdout",
          "text": [
            "Error: Division by zero\n"
          ]
        }
      ]
    },
    {
      "cell_type": "code",
      "source": [
        "# 6.Write a Python program that logs an error message to a log file when a division by zero exception occurs\n",
        "\n",
        "import logging\n",
        "\n",
        "# Configure logging to write to a file\n",
        "logging.basicConfig(filename='app_error.log', level=logging.ERROR,\n",
        "                    format='%(asctime)s - %(levelname)s - %(message)s')\n",
        "\n",
        "def divide_numbers(a, b):\n",
        "    try:\n",
        "        result = a / b\n",
        "        logging.info(f\"Division successful: {a} / {b} = {result}\")\n",
        "        return result\n",
        "    except ZeroDivisionError:\n",
        "        # Log the error message\n",
        "        logging.error(\"Error: Division by zero occurred!\")\n",
        "        print(\"An error occurred: Cannot divide by zero.\")\n",
        "        return None"
      ],
      "metadata": {
        "id": "cC-YZ2diFldZ"
      },
      "execution_count": 7,
      "outputs": []
    },
    {
      "cell_type": "code",
      "source": [
        "# 7. How do you log information at different levels (INFO, ERROR, WARNING) in Python using the logging module\n",
        "\n",
        "import logging\n",
        "\n",
        "# Configure logging to output messages to the console\n",
        "logging.basicConfig(level=logging.DEBUG, format='%(asctime)s - %(levelname)s - %(message)s')\n",
        "\n",
        "# Log messages at different levels\n",
        "logging.debug(\"This is a debug message - usually for detailed diagnostic output.\")\n",
        "logging.info(\"This is an info message - confirming things are working as expected.\")\n",
        "logging.warning(\"This is a warning message - something unexpected happened or might happen.\")\n",
        "logging.error(\"This is an error message - a problem prevented some function from working.\")\n",
        "logging.critical(\"This is a critical message - a serious error, program might stop.\")"
      ],
      "metadata": {
        "colab": {
          "base_uri": "https://localhost:8080/"
        },
        "id": "oUAMzEjNF48Z",
        "outputId": "bcc52720-e9a4-4d37-f6b8-53d534b131e8"
      },
      "execution_count": 8,
      "outputs": [
        {
          "output_type": "stream",
          "name": "stderr",
          "text": [
            "WARNING:root:This is a warning message - something unexpected happened or might happen.\n",
            "ERROR:root:This is an error message - a problem prevented some function from working.\n",
            "CRITICAL:root:This is a critical message - a serious error, program might stop.\n"
          ]
        }
      ]
    },
    {
      "cell_type": "code",
      "source": [
        "# 8.Write a program to handle a file opening error using exception handling\n",
        "\n",
        "try:\n",
        "    # Attempt to open a file that might not exist\n",
        "    with open(\"non_existent_file.txt\", \"r\") as f:\n",
        "        content = f.read()\n",
        "        print(\"File content:\")\n",
        "        print(content)\n",
        "except FileNotFoundError:\n",
        "    # Handle the case where the file is not found\n",
        "    print(\"Error: The file 'non_existent_file.txt' was not found.\")\n",
        "except IOError:\n",
        "    # Handle other potential I/O errors\n",
        "    print(\"An I/O error occurred while trying to access the file.\")\n",
        "finally:\n",
        "    # This block will execute regardless of whether an exception occurred\n",
        "    print(\"File handling attempt finished.\")"
      ],
      "metadata": {
        "colab": {
          "base_uri": "https://localhost:8080/"
        },
        "id": "-yDVa8uEGKmB",
        "outputId": "a0d4ef35-943d-4bee-a0a2-b2feaf239e4b"
      },
      "execution_count": 9,
      "outputs": [
        {
          "output_type": "stream",
          "name": "stdout",
          "text": [
            "Error: The file 'non_existent_file.txt' was not found.\n",
            "File handling attempt finished.\n"
          ]
        }
      ]
    },
    {
      "cell_type": "code",
      "source": [
        "# 9.How can you read a file line by line and store its content in a list in Python\n",
        "\n",
        "with open(\"example.txt\", \"r\") as file:\n",
        "    lines = file.readlines()\n",
        "\n",
        "for line in lines:\n",
        "    print(line)"
      ],
      "metadata": {
        "colab": {
          "base_uri": "https://localhost:8080/"
        },
        "id": "rzamBQtoGZd5",
        "outputId": "56cc89d3-f54b-417f-f3a7-02cbb20ae852"
      },
      "execution_count": 10,
      "outputs": [
        {
          "output_type": "stream",
          "name": "stdout",
          "text": [
            "Hello, world!\n"
          ]
        }
      ]
    },
    {
      "cell_type": "code",
      "source": [
        "# 10.How can you append data to an existing file in Python\n",
        "\n",
        "with open(\"example.txt\", \"a\") as file:\n",
        "    file.write(\"\\nAppended line.\")\n",
        "\n",
        "with open(\"example.txt\", \"r\") as file:\n",
        "    lines = file.readlines()\n",
        "\n",
        "for line in lines:\n",
        "    print(line)"
      ],
      "metadata": {
        "colab": {
          "base_uri": "https://localhost:8080/"
        },
        "id": "bgNwOLdNGhCd",
        "outputId": "501a0af7-a3c8-4ecd-efd2-9b980de82cda"
      },
      "execution_count": 12,
      "outputs": [
        {
          "output_type": "stream",
          "name": "stdout",
          "text": [
            "Hello, world!\n",
            "\n",
            "Appended line.\n",
            "\n",
            "Appended line.\n"
          ]
        }
      ]
    },
    {
      "cell_type": "code",
      "source": [
        "# 11.Write a Python program that uses a try-except block to handle an error when attempting to access a dictionary key that doesn't exist\n",
        "\n",
        "my_dict = {'a': 1, 'b': 2, 'c': 3}\n",
        "\n",
        "try:\n",
        "    value = my_dict['d']\n",
        "    print(\"Value:\", value)\n",
        "    print(\"Key 'd' exists in the dictionary.\")\n",
        "except KeyError:\n",
        "    print(\"Error: Key 'd' does not exist in the dictionary.\")"
      ],
      "metadata": {
        "colab": {
          "base_uri": "https://localhost:8080/"
        },
        "id": "lkXoQtkCGngQ",
        "outputId": "56af3627-1dbd-481f-d1c6-8112787e3b83"
      },
      "execution_count": 13,
      "outputs": [
        {
          "output_type": "stream",
          "name": "stdout",
          "text": [
            "Error: Key 'd' does not exist in the dictionary.\n"
          ]
        }
      ]
    },
    {
      "cell_type": "code",
      "source": [
        "# 12.Write a program that demonstrates using multiple except blocks to handle different types of exceptions\n",
        "\n",
        "try:\n",
        "    # Attempt to perform a division by zero\n",
        "    result = 10 / 0\n",
        "except ZeroDivisionError:\n",
        "    # Handle the ZeroDivisionError\n",
        "    print(\"Error: Division by zero occurred.\")"
      ],
      "metadata": {
        "colab": {
          "base_uri": "https://localhost:8080/"
        },
        "id": "uSPtiZIQG2ap",
        "outputId": "3d659e5f-a17f-4d00-b853-7b90419708ae"
      },
      "execution_count": 14,
      "outputs": [
        {
          "output_type": "stream",
          "name": "stdout",
          "text": [
            "Error: Division by zero occurred.\n"
          ]
        }
      ]
    },
    {
      "cell_type": "code",
      "source": [
        "# 13.How would you check if a file exists before attempting to read it in Python\n",
        "\n",
        "import os\n",
        "\n",
        "file_name = \"my_important_file.txt\"\n",
        "\n",
        "# Create a dummy file for demonstration if it doesn't exist\n",
        "if not os.path.exists(file_name):\n",
        "    with open(file_name, \"w\") as f:\n",
        "        f.write(\"This file exists!\")\n",
        "\n",
        "if os.path.exists(file_name):\n",
        "    print(f\"The file '{file_name}' exists. Attempting to read it.\")\n",
        "    try:\n",
        "        with open(file_name, \"r\") as f:\n",
        "            content = f.read()\n",
        "            print(\"File content:\")\n",
        "            print(content)\n",
        "    except IOError:\n",
        "        print(f\"An error occurred while reading the file '{file_name}'.\")\n",
        "else:\n",
        "    print(f\"The file '{file_name}' does not exist.\")\n",
        "\n",
        "# Clean up the dummy file\n",
        "if os.path.exists(file_name):\n",
        "    os.remove(file_name)\n",
        "    print(f\"Cleaned up the dummy file '{file_name}'.\")"
      ],
      "metadata": {
        "colab": {
          "base_uri": "https://localhost:8080/"
        },
        "id": "l2kX81OkG-FC",
        "outputId": "b5896fff-9ca8-475f-ccc9-dbaa166ee3e8"
      },
      "execution_count": 15,
      "outputs": [
        {
          "output_type": "stream",
          "name": "stdout",
          "text": [
            "The file 'my_important_file.txt' exists. Attempting to read it.\n",
            "File content:\n",
            "This file exists!\n",
            "Cleaned up the dummy file 'my_important_file.txt'.\n"
          ]
        }
      ]
    },
    {
      "cell_type": "code",
      "source": [
        "# 14.Write a program that uses the logging module to log both informational and error messages\n",
        "\n",
        "import logging\n",
        "\n",
        "# Configure logging to output messages to the console\n",
        "# Set the level to INFO to see INFO, WARNING, ERROR, and CRITICAL messages\n",
        "logging.basicConfig(level=logging.INFO, format='%(asctime)s - %(levelname)s - %(message)s')\n",
        "\n",
        "def process_data(data):\n",
        "    \"\"\"Processes data and logs status and errors.\"\"\"\n",
        "    logging.info(\"Starting data processing...\")\n",
        "\n",
        "    if not data:\n",
        "        logging.warning(\"No data provided for processing.\")\n",
        "        return None\n",
        "\n",
        "    try:\n",
        "        # Simulate some processing that might fail\n",
        "        result = 100 / len(data)\n",
        "        logging.info(f\"Data processed successfully. Result: {result}\")\n",
        "        return result\n",
        "    except ZeroDivisionError:\n",
        "        logging.error(\"Error: Division by zero occurred during processing.\")\n",
        "        print(\"Error: Cannot process empty data (division by zero).\")\n",
        "        return None\n",
        "    except Exception as e:\n",
        "        logging.error(f\"An unexpected error occurred during processing: {e}\")\n",
        "        print(f\"An unexpected error occurred: {e}\")\n",
        "        return None"
      ],
      "metadata": {
        "id": "VNyzZE3rHPIw"
      },
      "execution_count": 16,
      "outputs": []
    },
    {
      "cell_type": "code",
      "source": [
        "# 15. Write a Python program that prints the content of a file and handles the case when the file is empty\n",
        "\n",
        "file_name = \"my_file.txt\"\n",
        "\n",
        "try:\n",
        "    with open(file_name, \"r\") as file:\n",
        "        content = file.read()\n",
        "        if content:\n",
        "            print(\"File content:\")\n",
        "            print(content)\n",
        "        else:\n",
        "            print(\"The file is empty.\")\n",
        "except FileNotFoundError:\n",
        "    print(f\"Error: The file '{file_name}' was not found.\")\n",
        "except IOError:\n",
        "    print(f\"Error: An I/O error occurred while reading the file '{file_name}'.\")"
      ],
      "metadata": {
        "colab": {
          "base_uri": "https://localhost:8080/"
        },
        "id": "qypO_OX7He-7",
        "outputId": "6ff409b4-a99b-4f31-805d-1ad25ceba3de"
      },
      "execution_count": 18,
      "outputs": [
        {
          "output_type": "stream",
          "name": "stdout",
          "text": [
            "Error: The file 'my_file.txt' was not found.\n"
          ]
        }
      ]
    },
    {
      "cell_type": "code",
      "source": [
        "# 16.Demonstrate how to use memory profiling to check the memory usage of a small program\n",
        "\n",
        "from memory_profiler import profile\n",
        "\n",
        "@profile\n",
        "def create_list_of_strings(num_elements):\n",
        "    \"\"\"Creates a list of strings and demonstrates memory usage.\"\"\"\n",
        "    my_list = []\n",
        "    for i in range(num_elements):\n",
        "        my_list.append(\"This is a sample string \" * 10) # Create a relatively large string\n",
        "    return my_list\n",
        "\n",
        "if __name__ == '__main__':\n",
        "    print(\"Profiling memory usage of create_list_of_strings...\")\n",
        "    data = create_list_of_strings(10000) # Create a list with 10,000 elements\n",
        "    print(\"Profiling finished.\")"
      ],
      "metadata": {
        "colab": {
          "base_uri": "https://localhost:8080/",
          "height": 383
        },
        "id": "bGF9vEXnHtx2",
        "outputId": "da19854c-877b-4d39-f374-5841f2509921"
      },
      "execution_count": 19,
      "outputs": [
        {
          "output_type": "error",
          "ename": "ModuleNotFoundError",
          "evalue": "No module named 'memory_profiler'",
          "traceback": [
            "\u001b[0;31m---------------------------------------------------------------------------\u001b[0m",
            "\u001b[0;31mModuleNotFoundError\u001b[0m                       Traceback (most recent call last)",
            "\u001b[0;32m/tmp/ipython-input-4102126529.py\u001b[0m in \u001b[0;36m<cell line: 0>\u001b[0;34m()\u001b[0m\n\u001b[1;32m      1\u001b[0m \u001b[0;31m# 16.Demonstrate how to use memory profiling to check the memory usage of a small program\u001b[0m\u001b[0;34m\u001b[0m\u001b[0;34m\u001b[0m\u001b[0m\n\u001b[1;32m      2\u001b[0m \u001b[0;34m\u001b[0m\u001b[0m\n\u001b[0;32m----> 3\u001b[0;31m \u001b[0;32mfrom\u001b[0m \u001b[0mmemory_profiler\u001b[0m \u001b[0;32mimport\u001b[0m \u001b[0mprofile\u001b[0m\u001b[0;34m\u001b[0m\u001b[0;34m\u001b[0m\u001b[0m\n\u001b[0m\u001b[1;32m      4\u001b[0m \u001b[0;34m\u001b[0m\u001b[0m\n\u001b[1;32m      5\u001b[0m \u001b[0;34m@\u001b[0m\u001b[0mprofile\u001b[0m\u001b[0;34m\u001b[0m\u001b[0;34m\u001b[0m\u001b[0m\n",
            "\u001b[0;31mModuleNotFoundError\u001b[0m: No module named 'memory_profiler'",
            "",
            "\u001b[0;31m---------------------------------------------------------------------------\u001b[0;32m\nNOTE: If your import is failing due to a missing package, you can\nmanually install dependencies using either !pip or !apt.\n\nTo view examples of installing some common dependencies, click the\n\"Open Examples\" button below.\n\u001b[0;31m---------------------------------------------------------------------------\u001b[0m\n"
          ],
          "errorDetails": {
            "actions": [
              {
                "action": "open_url",
                "actionText": "Open Examples",
                "url": "/notebooks/snippets/importing_libraries.ipynb"
              }
            ]
          }
        }
      ]
    },
    {
      "cell_type": "code",
      "source": [
        "# 17.Write a Python program to create and write a list of numbers to a file, one number per line\n",
        "\n",
        "numbers = [1, 2, 3, 4, 5]\n",
        "\n",
        "with open(\"numbers.txt\", \"w\") as file:\n",
        "    for number in numbers:\n",
        "        file.write(str(number) + \"\\n\")\n",
        "\n",
        "with open(\"numbers.txt\", \"r\") as file:\n",
        "    lines = file.readlines()\n",
        "    for line in lines:\n",
        "        print(line.strip())"
      ],
      "metadata": {
        "colab": {
          "base_uri": "https://localhost:8080/"
        },
        "id": "mccD2yAUICKA",
        "outputId": "85de10e9-59be-4139-e3bb-f47e96f1b606"
      },
      "execution_count": 21,
      "outputs": [
        {
          "output_type": "stream",
          "name": "stdout",
          "text": [
            "1\n",
            "2\n",
            "3\n",
            "4\n",
            "5\n"
          ]
        }
      ]
    },
    {
      "cell_type": "code",
      "source": [
        "# 18.How would you implement a basic logging setup that logs to a file with rotation after 1MB\n",
        "\n",
        "import logging\n",
        "import logging.handlers\n",
        "import time\n",
        "import os\n",
        "\n",
        "# Define the log file name\n",
        "log_file = \"rotating_app.log\"\n",
        "\n",
        "logging.basicConfig(level=logging.INFO)\n",
        "\n",
        "rotating_handler = logging.handlers.RotatingFileHandler(\n",
        "    filename=log_file,\n",
        "    maxBytes=1024 * 1024,  # 1MB\n",
        "    backupCount=5          # Keep up to 5 backup files\n",
        ")\n",
        "\n",
        "# Create a formatter to define the log message format\n",
        "formatter = logging.Formatter('%(asctime)s - %(levelname)s - %(message)s')\n",
        "\n",
        "# Set the formatter for the handler\n",
        "rotating_handler.setFormatter(formatter)\n",
        "\n",
        "# Get the root logger and add the handler\n",
        "logger = logging.getLogger('') # Get the root logger\n",
        "logger.addHandler(rotating_handler)\n",
        "\n",
        "\n",
        "print(f\"Logging to {log_file} with rotation after 1MB and 5 backups.\")\n",
        "\n",
        "message = \"This is a log message that will help fill up the file. \" * 50 # Make message larger\n",
        "print(\"Generating log messages to demonstrate rotation...\")\n",
        "for i in range(5000): # Adjust the range based on message size to trigger rotation\n",
        "    logging.info(f\"Log message number {i}: {message}\")\n",
        "    # time.sleep(0.01) # Optional: add a small delay\n",
        "\n",
        "print(\"\\nLog message generation finished. Check the log file and backup files.\")\n",
        "print(f\"The log file is: {log_file}\")\n",
        "print(\"Backup files will be named like rotating_app.log.1, rotating_app.log.2, etc.\")"
      ],
      "metadata": {
        "colab": {
          "base_uri": "https://localhost:8080/"
        },
        "id": "j_2h9XRbILIN",
        "outputId": "f02af910-70a3-4b87-c240-9d883cdcc766"
      },
      "execution_count": 22,
      "outputs": [
        {
          "output_type": "stream",
          "name": "stdout",
          "text": [
            "Logging to rotating_app.log with rotation after 1MB and 5 backups.\n",
            "Generating log messages to demonstrate rotation...\n",
            "\n",
            "Log message generation finished. Check the log file and backup files.\n",
            "The log file is: rotating_app.log\n",
            "Backup files will be named like rotating_app.log.1, rotating_app.log.2, etc.\n"
          ]
        }
      ]
    },
    {
      "cell_type": "code",
      "source": [
        "# 19.Write a program that handles both IndexError and KeyError using a try-except block\n",
        "\n",
        "ef access_element(data_structure, index_or_key):\n",
        "    \"\"\"Attempts to access an element from a list or dictionary.\"\"\"\n",
        "    try:\n",
        "        value = data_structure[index_or_key]\n",
        "        print(f\"Successfully accessed element: {value}\")\n",
        "    except (IndexError, KeyError) as e:\n",
        "        # This block catches both IndexError (for lists/tuples)\n",
        "        # and KeyError (for dictionaries)\n",
        "        print(f\"Error: Could not access element. Caught exception: {type(e).__name__} - {e}\")\n",
        "    except Exception as e:\n",
        "        # Catch any other unexpected exceptions\n",
        "        print(f\"An unexpected error occurred: {type(e).__name__} - {e}\")\n",
        "\n",
        "# Example with a list (IndexError)\n",
        "my_list = [10, 20, 30]\n",
        "print(\"Accessing list element at index 1:\")\n",
        "access_element(my_list, 1)\n",
        "\n",
        "print(\"\\nAccessing list element at index 5 (will raise IndexError):\")\n",
        "access_element(my_list, 5)\n",
        "\n",
        "print(\"-\" * 20)\n",
        "\n",
        "# Example with a dictionary (KeyError)\n",
        "my_dict = {\"a\": 1, \"b\": 2}\n",
        "print(\"Accessing dictionary element with key 'a':\")\n",
        "access_element(my_dict, \"a\")\n",
        "\n",
        "print(\"\\nAccessing dictionary element with key 'c' (will raise KeyError):\")\n",
        "access_element(my_dict, \"c\")\n",
        "\n",
        "print(\"-\" * 20)\n",
        "\n",
        "print(\"Accessing element with wrong type (will raise TypeError):\")\n",
        "access_element(my_list, \"a\")"
      ],
      "metadata": {
        "colab": {
          "base_uri": "https://localhost:8080/",
          "height": 106
        },
        "id": "M4rpPOzxIuoH",
        "outputId": "0bb67790-018e-482e-f8b4-8cb1a3686bb4"
      },
      "execution_count": 24,
      "outputs": [
        {
          "output_type": "error",
          "ename": "SyntaxError",
          "evalue": "invalid syntax (ipython-input-1807075816.py, line 3)",
          "traceback": [
            "\u001b[0;36m  File \u001b[0;32m\"/tmp/ipython-input-1807075816.py\"\u001b[0;36m, line \u001b[0;32m3\u001b[0m\n\u001b[0;31m    ef access_element(data_structure, index_or_key):\u001b[0m\n\u001b[0m       ^\u001b[0m\n\u001b[0;31mSyntaxError\u001b[0m\u001b[0;31m:\u001b[0m invalid syntax\n"
          ]
        }
      ]
    },
    {
      "cell_type": "code",
      "source": [
        "# 20. How would you open a file and read its contents using a context manager in Python\n",
        "\n",
        "# Create a dummy file for demonstration\n",
        "file_name = \"my_context_file.txt\"\n",
        "with open(file_name, \"w\") as f:\n",
        "    f.write(\"This is the first line.\\n\")\n",
        "    f.write(\"This is the second line.\")\n",
        "\n",
        "print(f\"Reading contents of '{file_name}' using a context manager:\")\n",
        "\n",
        "try:\n",
        "    # Use the 'with' statement to open and read the file\n",
        "    with open(file_name, \"r\") as f:\n",
        "        # The file is open and accessible within this block\n",
        "        content = f.read()\n",
        "        print(content)\n",
        "    # The file is automatically closed here, outside the 'with' block\n",
        "\n",
        "except FileNotFoundError:\n",
        "    print(f\"Error: The file '{file_name}' was not found.\")\n",
        "except IOError:\n",
        "    print(f\"An I/O error occurred while reading the file '{file_name}'.\")\n",
        "\n",
        "print(\"File handling finished.\")\n",
        "\n",
        "# Clean up the dummy file\n",
        "import os\n",
        "if os.path.exists(file_name):\n",
        "    os.remove(file_name)\n",
        "    print(f\"Cleaned up the dummy file '{file_name}'.\")"
      ],
      "metadata": {
        "colab": {
          "base_uri": "https://localhost:8080/"
        },
        "id": "RsmszTNDI_HY",
        "outputId": "0c81d5bc-a710-4051-ccc6-672f7090d3ac"
      },
      "execution_count": 25,
      "outputs": [
        {
          "output_type": "stream",
          "name": "stdout",
          "text": [
            "Reading contents of 'my_context_file.txt' using a context manager:\n",
            "This is the first line.\n",
            "This is the second line.\n",
            "File handling finished.\n",
            "Cleaned up the dummy file 'my_context_file.txt'.\n"
          ]
        }
      ]
    },
    {
      "cell_type": "code",
      "source": [
        "# 21.Write a Python program that reads a file and prints the number of occurrences of a specific word\n",
        "\n",
        "file_name = \"my_file.txt\"\n",
        "\n",
        "# Create a dummy file for demonstration if it doesn'\n"
      ],
      "metadata": {
        "id": "RRAzJTxMJZD2"
      },
      "execution_count": 26,
      "outputs": []
    },
    {
      "cell_type": "code",
      "source": [
        "# 22.How can you check if a file is empty before attempting to read its contents\n",
        "\n",
        "import os\n",
        "\n",
        "def is_file_empty(file_path):\n",
        "    \"\"\"Checks if a file exists and is empty.\"\"\"\n",
        "    if not os.path.exists(file_path):\n",
        "        print(f\"File '{file_path}' does not exist.\")\n",
        "        return False # Or raise an error, depending on desired behavior\n",
        "    else:\n",
        "        file_size = os.path.getsize(file_path)\n",
        "        if file_size == 0:\n",
        "            print(f\"File '{file_path}' is empty.\")\n",
        "            return True\n",
        "        else:\n",
        "            print(f\"File '{file_path}' is not empty (size: {file_size} bytes).\")\n",
        "            return False\n",
        "\n",
        "# Create a dummy empty file\n",
        "empty_file_name = \"empty_file.txt\"\n",
        "with open(empty_file_name, \"w\") as f:\n",
        "    pass # Create an empty file\n",
        "\n",
        "# Create a dummy non-empty file\n",
        "non_empty_file_name = \"non_empty_file.txt\"\n",
        "with open(non_empty_file_name, \"w\") as f:\n",
        "    f.write(\"This file has content.\")\n",
        "\n",
        "\n",
        "# Check the files\n",
        "is_file_empty(empty_file_name)\n",
        "is_file_empty(non_empty_file_name)\n",
        "is_file_empty(\"non_existent_file.txt\") # Check a non-existent file\n",
        "\n",
        "# Clean up dummy files\n",
        "os.remove(empty_file_name)\n",
        "os.remove(non_empty_file_name)"
      ],
      "metadata": {
        "colab": {
          "base_uri": "https://localhost:8080/"
        },
        "id": "Awb8UYt8Jj1T",
        "outputId": "981464f7-48b4-46db-b10e-2fc010a78eba"
      },
      "execution_count": 27,
      "outputs": [
        {
          "output_type": "stream",
          "name": "stdout",
          "text": [
            "File 'empty_file.txt' is empty.\n",
            "File 'non_empty_file.txt' is not empty (size: 22 bytes).\n",
            "File 'non_existent_file.txt' does not exist.\n"
          ]
        }
      ]
    },
    {
      "cell_type": "code",
      "source": [
        "# 23.Write a Python program that writes to a log file when an error occurs during file handling.\n",
        "\n",
        "import logging\n",
        "import os\n",
        "\n",
        "# Define the log file name\n",
        "error_log_file = \"file_handling_errors.log\"\n",
        "\n",
        "# Configure logging to write ERROR level messages to the specified file\n",
        "logging.basicConfig(filename=error_log_file, level=logging.ERROR,\n",
        "                    format='%(asctime)s - %(levelname)s - %(message)s')\n",
        "\n",
        "def read_file_with_error_logging(file_path):\n",
        "    \"\"\"Attempts to read a file and logs errors if file handling fails.\"\"\"\n",
        "    try:\n",
        "        # Attempt to open and read the file\n",
        "        with open(file_path, \"r\") as f:\n",
        "            content = f.read()\n",
        "            print(f\"Successfully read content from '{file_path}':\")\n",
        "            print(content)\n",
        "            logging.info(f\"Successfully read file: {file_path}\") # Log success as info (optional)\n",
        "    except FileNotFoundError:\n",
        "        # Log a specific error if the file is not found\n",
        "        error_message = f\"Error: File not found - '{file_path}'\"\n",
        "        logging.error(error_message)\n",
        "        print(error_message)\n",
        "    except IOError as e:\n",
        "        # Log other potential I/O errors\n",
        "        error_message = f\"An I/O error occurred while handling file '{file_path}': {e}\"\n",
        "        logging.error(error_message)\n",
        "        print(error_message)\n",
        "    except Exception as e:\n",
        "        # Catch any other unexpected exceptions during file handling\n",
        "        error_message = f\"An unexpected error occurred while handling file '{file_path}': {e}\"\n",
        "        logging.error(error_message)\n",
        "        print(error_message)"
      ],
      "metadata": {
        "id": "VIhkKp7YJyOg"
      },
      "execution_count": 28,
      "outputs": []
    },
    {
      "cell_type": "code",
      "source": [],
      "metadata": {
        "id": "oA87abZXKB3C"
      },
      "execution_count": null,
      "outputs": []
    }
  ]
}