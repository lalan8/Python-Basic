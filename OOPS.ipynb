{
  "nbformat": 4,
  "nbformat_minor": 0,
  "metadata": {
    "colab": {
      "provenance": []
    },
    "kernelspec": {
      "name": "python3",
      "display_name": "Python 3"
    },
    "language_info": {
      "name": "python"
    }
  },
  "cells": [
    {
      "cell_type": "code",
      "execution_count": 1,
      "metadata": {
        "colab": {
          "base_uri": "https://localhost:8080/"
        },
        "id": "cdep5lv2BK0b",
        "outputId": "f420d4e0-3a32-4ad5-9570-82baf6f1bf4a"
      },
      "outputs": [
        {
          "output_type": "stream",
          "name": "stdout",
          "text": [
            "Bark!\n"
          ]
        }
      ],
      "source": [
        "# 1. Create a parent class Animal with a method speak() that prints a generic message. Create a child class Dog that overrides the speak() method to print \"Bark!\".\n",
        "\n",
        "class Animal:\n",
        "    def speak(self):\n",
        "        print(\"Generic animal sound\")\n",
        "\n",
        "class Dog(Animal):\n",
        "    def speak(self):\n",
        "        print(\"Bark!\")\n",
        "\n",
        "dog = Dog()\n",
        "dog.speak()\n",
        "\n",
        "# Output:\n",
        "# Bark!"
      ]
    },
    {
      "cell_type": "code",
      "source": [
        "# 2. Write a program to create an abstract class Shape with a method area(). Derive classes Circle and Rectangle from it and implement the area() method in both.\n",
        "\n",
        "from abc import ABC, abstractmethod\n",
        "\n",
        "class Shape(ABC):\n",
        "    @abstractmethod\n",
        "    def area(self):\n",
        "        pass\n",
        "\n",
        "class Circle(Shape):\n",
        "    def __init__(self, radius):\n",
        "        self.radius = radius\n",
        "\n",
        "    def area(self):\n",
        "        return 3.14 * self.radius * self.radius\n",
        "\n",
        "    class Rectangle(Shape):\n",
        "        def __init__(self, length, width):\n",
        "            self.length = length\n",
        "            self.width = width\n",
        "\n",
        "        def area(self):\n",
        "            return self.length * self.width\n",
        "\n",
        "    circle = Circle(5)\n",
        "    rectangle = Rectangle(4, 6)\n",
        "\n",
        "    print(\"Area of the circle:\", circle.area())\n",
        "    print(\"Area of the rectangle:\", rectangle.area())"
      ],
      "metadata": {
        "colab": {
          "base_uri": "https://localhost:8080/",
          "height": 332
        },
        "id": "Zfe3MTCPBoWP",
        "outputId": "813539e1-9c21-496f-9fc6-709be2fb9db0"
      },
      "execution_count": 2,
      "outputs": [
        {
          "output_type": "error",
          "ename": "NameError",
          "evalue": "name 'Circle' is not defined",
          "traceback": [
            "\u001b[0;31m---------------------------------------------------------------------------\u001b[0m",
            "\u001b[0;31mNameError\u001b[0m                                 Traceback (most recent call last)",
            "\u001b[0;32m/tmp/ipython-input-2717581599.py\u001b[0m in \u001b[0;36m<cell line: 0>\u001b[0;34m()\u001b[0m\n\u001b[1;32m      8\u001b[0m         \u001b[0;32mpass\u001b[0m\u001b[0;34m\u001b[0m\u001b[0;34m\u001b[0m\u001b[0m\n\u001b[1;32m      9\u001b[0m \u001b[0;34m\u001b[0m\u001b[0m\n\u001b[0;32m---> 10\u001b[0;31m \u001b[0;32mclass\u001b[0m \u001b[0mCircle\u001b[0m\u001b[0;34m(\u001b[0m\u001b[0mShape\u001b[0m\u001b[0;34m)\u001b[0m\u001b[0;34m:\u001b[0m\u001b[0;34m\u001b[0m\u001b[0;34m\u001b[0m\u001b[0m\n\u001b[0m\u001b[1;32m     11\u001b[0m     \u001b[0;32mdef\u001b[0m \u001b[0m__init__\u001b[0m\u001b[0;34m(\u001b[0m\u001b[0mself\u001b[0m\u001b[0;34m,\u001b[0m \u001b[0mradius\u001b[0m\u001b[0;34m)\u001b[0m\u001b[0;34m:\u001b[0m\u001b[0;34m\u001b[0m\u001b[0;34m\u001b[0m\u001b[0m\n\u001b[1;32m     12\u001b[0m         \u001b[0mself\u001b[0m\u001b[0;34m.\u001b[0m\u001b[0mradius\u001b[0m \u001b[0;34m=\u001b[0m \u001b[0mradius\u001b[0m\u001b[0;34m\u001b[0m\u001b[0;34m\u001b[0m\u001b[0m\n",
            "\u001b[0;32m/tmp/ipython-input-2717581599.py\u001b[0m in \u001b[0;36mCircle\u001b[0;34m()\u001b[0m\n\u001b[1;32m     23\u001b[0m             \u001b[0;32mreturn\u001b[0m \u001b[0mself\u001b[0m\u001b[0;34m.\u001b[0m\u001b[0mlength\u001b[0m \u001b[0;34m*\u001b[0m \u001b[0mself\u001b[0m\u001b[0;34m.\u001b[0m\u001b[0mwidth\u001b[0m\u001b[0;34m\u001b[0m\u001b[0;34m\u001b[0m\u001b[0m\n\u001b[1;32m     24\u001b[0m \u001b[0;34m\u001b[0m\u001b[0m\n\u001b[0;32m---> 25\u001b[0;31m     \u001b[0mcircle\u001b[0m \u001b[0;34m=\u001b[0m \u001b[0mCircle\u001b[0m\u001b[0;34m(\u001b[0m\u001b[0;36m5\u001b[0m\u001b[0;34m)\u001b[0m\u001b[0;34m\u001b[0m\u001b[0;34m\u001b[0m\u001b[0m\n\u001b[0m\u001b[1;32m     26\u001b[0m     \u001b[0mrectangle\u001b[0m \u001b[0;34m=\u001b[0m \u001b[0mRectangle\u001b[0m\u001b[0;34m(\u001b[0m\u001b[0;36m4\u001b[0m\u001b[0;34m,\u001b[0m \u001b[0;36m6\u001b[0m\u001b[0;34m)\u001b[0m\u001b[0;34m\u001b[0m\u001b[0;34m\u001b[0m\u001b[0m\n\u001b[1;32m     27\u001b[0m \u001b[0;34m\u001b[0m\u001b[0m\n",
            "\u001b[0;31mNameError\u001b[0m: name 'Circle' is not defined"
          ]
        }
      ]
    },
    {
      "cell_type": "code",
      "source": [
        "# 3. Implement a multi-level inheritance scenario where a class Vehicle has an attribute type. Derive a class Car and further derive a class ElectricCar that adds a battery attribute.\n",
        "\n",
        "class Vehicle:\n",
        "    def __init__(self, vehicle_type):\n",
        "        self.type = vehicle_type\n",
        "        print(f\"Vehicle created with type: {self.type}\")\n",
        "\n",
        "class Car(Vehicle):\n",
        "    def __init__(self, model, vehicle_type=\"car\"):\n",
        "        super().__init__(vehicle_type)\n",
        "        self.model = model\n",
        "        print(f\"Car created with model: {self.model}\")\n",
        "\n",
        "class ElectricCar(Car):\n",
        "    def __init__(self, model, battery_capacity, vehicle_type=\"electric car\"):\n",
        "        super().__init__(model, vehicle_type)\n",
        "        self.battery = battery_capacity\n",
        "        print(f\"Electric Car created with battery capacity: {self.battery} kWh\")\n",
        "\n",
        "# Create an instance of ElectricCar\n",
        "electric_car = ElectricCar(\"Tesla Model 3\", 75)\n",
        "\n",
        "# Access attributes from different levels of inheritance\n",
        "print(f\"\\nElectric Car Details:\")\n",
        "print(f\"Type: {electric_car.type}\")\n",
        "print(f\"Model: {electric_car.model}\")\n",
        "print(f\"Battery Capacity: {electric_car.battery} kWh\")"
      ],
      "metadata": {
        "colab": {
          "base_uri": "https://localhost:8080/"
        },
        "id": "ZX-Vv0vXCOSh",
        "outputId": "a1affeb9-6532-42dd-aad0-379e676637f7"
      },
      "execution_count": 3,
      "outputs": [
        {
          "output_type": "stream",
          "name": "stdout",
          "text": [
            "Vehicle created with type: electric car\n",
            "Car created with model: Tesla Model 3\n",
            "Electric Car created with battery capacity: 75 kWh\n",
            "\n",
            "Electric Car Details:\n",
            "Type: electric car\n",
            "Model: Tesla Model 3\n",
            "Battery Capacity: 75 kWh\n"
          ]
        }
      ]
    },
    {
      "cell_type": "code",
      "source": [
        "# 4. Demonstrate polymorphism by creating a base class Bird with a method fly(). Create two derived classes Sparrow and Penguin that override the fly() method.\n",
        "\n",
        "class Bird:\n",
        "    def fly(self):\n",
        "        print(\"Bird is flying\")\n",
        "\n",
        "class Sparrow(Bird):\n",
        "    def fly(self):\n",
        "        print(\"Sparrow is flying high\")\n",
        "\n",
        "class Penguin(Bird):\n",
        "    def fly(self):\n",
        "        print(\"Penguin can't fly, but it can swim!\")\n",
        "\n",
        "# Create instances of the classes\n",
        "bird = Bird()\n",
        "sparrow = Sparrow()\n",
        "penguin = Penguin()\n",
        "\n",
        "# Demonstrate polymorphism by calling the fly() method on different objects\n",
        "print(\"Demonstrating polymorphism:\")\n",
        "bird.fly()\n",
        "sparrow.fly()\n",
        "penguin.fly()"
      ],
      "metadata": {
        "colab": {
          "base_uri": "https://localhost:8080/"
        },
        "id": "NHkbDm5AC8bi",
        "outputId": "035844e2-a6a8-483c-bc3c-2b58eba91bd6"
      },
      "execution_count": 5,
      "outputs": [
        {
          "output_type": "stream",
          "name": "stdout",
          "text": [
            "Demonstrating polymorphism:\n",
            "Bird is flying\n",
            "Sparrow is flying high\n",
            "Penguin can't fly, but it can swim!\n"
          ]
        }
      ]
    },
    {
      "cell_type": "code",
      "source": [
        "# 5.Write a program to demonstrate encapsulation by creating a class BankAccount with private attributes balance and methods to deposit, withdraw, and check balance\n",
        "\n",
        "class BankAccount:\n",
        "    def __init__(self, initial_balance=0):\n",
        "        # Using name mangling for a \"private\" attribute\n",
        "        self.__balance = initial_balance\n",
        "        print(self.__balance)\n",
        "\n",
        "    def deposit(self, amount):\n",
        "        if amount > 0:\n",
        "            self.__balance += amount\n",
        "            print(self.__balance)\n",
        "        else:\n",
        "            print(\"Deposit amount must be positive.\")\n",
        "\n",
        "    def withdraw(self, amount):\n",
        "        if amount > 0:\n",
        "            if self.__balance >= amount:\n",
        "                self.__balance -= amount\n",
        "                print(self.__balance)\n",
        "            else:\n",
        "                print(\"Insufficient funds.\")\n",
        "        else:\n",
        "            print(\"Withdrawal amount must be positive.\")\n",
        "\n",
        "    def get_balance(self):\n",
        "        # Accessing the \"private\" attribute from within the class\n",
        "        return self.__balance\n",
        "\n",
        "# Create a bank account instance\n",
        "account = BankAccount(100)\n",
        "\n",
        "# Use the methods to interact with the account\n",
        "account.deposit(50)\n",
        "account.withdraw(30)\n",
        "account.withdraw(200) # Insufficient funds\n",
        "\n",
        "# Check the balance using the get_balance method\n",
        "print(account.get_balance())"
      ],
      "metadata": {
        "colab": {
          "base_uri": "https://localhost:8080/"
        },
        "id": "jU66C_NqDlgC",
        "outputId": "8f12aa34-0509-4da3-d76b-4a7e5e89bbe2"
      },
      "execution_count": 6,
      "outputs": [
        {
          "output_type": "stream",
          "name": "stdout",
          "text": [
            "100\n",
            "150\n",
            "120\n",
            "Insufficient funds.\n",
            "120\n"
          ]
        }
      ]
    },
    {
      "cell_type": "code",
      "source": [
        "# 6. Demonstrate runtime polymorphism using a method play() in a base class Instrument. Derive classes Guitar and Piano that implement their own version of play().\n",
        "\n",
        "class Instrument:\n",
        "    def play(self):\n",
        "        print(\"Playing an instrument sound\")\n",
        "\n",
        "class Guitar(Instrument):\n",
        "    def play(self):\n",
        "        print(\"Strumming the guitar\")\n",
        "\n",
        "class Piano(Instrument):\n",
        "    def play(self):\n",
        "        print(\"Playing the piano keys\")\n",
        "\n",
        "# Create instances of the classes\n",
        "instrument = Instrument()\n",
        "guitar = Guitar()\n",
        "piano = Piano()\n",
        "\n",
        "# Demonstrate runtime polymorphism by calling the play() method on different objects\n",
        "print(\"Demonstrating runtime polymorphism:\")\n",
        "instrument.play()\n",
        "guitar.play()\n",
        "piano.play()"
      ],
      "metadata": {
        "colab": {
          "base_uri": "https://localhost:8080/"
        },
        "id": "bgyC9dF2ExkB",
        "outputId": "3ba5d239-b3d8-4921-e083-2a24460b7a20"
      },
      "execution_count": 7,
      "outputs": [
        {
          "output_type": "stream",
          "name": "stdout",
          "text": [
            "Demonstrating runtime polymorphism:\n",
            "Playing an instrument sound\n",
            "Strumming the guitar\n",
            "Playing the piano keys\n"
          ]
        }
      ]
    },
    {
      "cell_type": "code",
      "source": [
        "# 7. Create a class MathOperations with a class method add_numbers() to add two numbers and a static method subtract_numbers() to subtract two numbers.\n",
        "\n",
        "class MathOperations:\n",
        "    @classmethod\n",
        "    def add_numbers(cls, num1, num2):\n",
        "        return num1 + num2\n",
        "\n",
        "    @staticmethod\n",
        "    def subtract_numbers(num1, num2):\n",
        "        return num1 - num2\n",
        "\n",
        "# Use the class method to add numbers (can be called via class or instance)\n",
        "sum_result = MathOperations.add_numbers(10, 5)\n",
        "print(sum_result)\n",
        "\n",
        "# Use the static method to subtract numbers (can be called via class or instance)\n",
        "difference_result = MathOperations.subtract_numbers(10, 5)\n",
        "print(difference_result)\n",
        "\n",
        "# You can also call them via an instance, though calling static methods via the class is common\n",
        "math_obj = MathOperations()\n",
        "sum_result_instance = math_obj.add_numbers(20, 10)\n",
        "print(sum_result_instance)\n",
        "difference_result_instance = math_obj.subtract_numbers(20, 10)\n",
        "print(difference_result_instance)"
      ],
      "metadata": {
        "colab": {
          "base_uri": "https://localhost:8080/"
        },
        "id": "SP4tk00PFTJM",
        "outputId": "cfc0f072-efee-4490-b922-8ce31e059b83"
      },
      "execution_count": 8,
      "outputs": [
        {
          "output_type": "stream",
          "name": "stdout",
          "text": [
            "15\n",
            "5\n",
            "30\n",
            "10\n"
          ]
        }
      ]
    },
    {
      "cell_type": "code",
      "source": [
        "# 8. Implement a class Person with a class method to count the total number of persons created\n",
        "\n",
        "class Person:\n",
        "    # Class variable to keep track of the number of instances\n",
        "    person_count = 0\n",
        "\n",
        "    def __init__(self, name):\n",
        "        self.name = name\n",
        "        # Increment the class variable whenever a new instance is created\n",
        "        Person.person_count += 1\n",
        "        print(self.name)\n",
        "\n",
        "    @classmethod\n",
        "    def get_person_count(cls):\n",
        "        return cls.person_count\n",
        "\n",
        "# Create some instances of the Person class\n",
        "person1 = Person(\"Alice\")\n",
        "person2 = Person(\"Bob\")\n",
        "person3 = Person(\"Charlie\")\n",
        "\n",
        "# Use the class method to get the total count\n",
        "total_persons = Person.get_person_count()\n",
        "print(total_persons)\n",
        "\n",
        "# You can also access the class variable directly\n",
        "print(Person.person_count)"
      ],
      "metadata": {
        "colab": {
          "base_uri": "https://localhost:8080/"
        },
        "id": "Adchr2A9GquS",
        "outputId": "b00f38bb-ae8a-4af0-b094-300222f25830"
      },
      "execution_count": 9,
      "outputs": [
        {
          "output_type": "stream",
          "name": "stdout",
          "text": [
            "Alice\n",
            "Bob\n",
            "Charlie\n",
            "3\n",
            "3\n"
          ]
        }
      ]
    },
    {
      "cell_type": "code",
      "source": [
        "# 9. Write a class Fraction with attributes numerator and denominator. Override the str method to display the fraction as \"numerator/denominator\".\n",
        "\n",
        "class Fraction:\n",
        "    def __init__(self, numerator, denominator):\n",
        "        # Basic validation to prevent division by zero\n",
        "        if denominator == 0:\n",
        "            raise ValueError(\"Denominator cannot be zero.\")\n",
        "        self.numerator = numerator\n",
        "        self.denominator = denominator\n",
        "\n",
        "    def __str__(self):\n",
        "        return f\"{self.numerator}/{self.denominator}\"\n",
        "\n",
        "# Create a Fraction instance\n",
        "fraction1 = Fraction(3, 4)\n",
        "fraction2 = Fraction(1, 2)\n",
        "\n",
        "# Print the fraction (which will call the __str__ method)\n",
        "print(f\"Fraction 1: {fraction1}\")\n",
        "print(f\"Fraction 2: {fraction2}\")\n",
        "\n",
        "# You can also explicitly call str()\n",
        "print(f\"Fraction 1 (using str()): {str(fraction1)}\")"
      ],
      "metadata": {
        "colab": {
          "base_uri": "https://localhost:8080/"
        },
        "id": "KxYvy1g1H3D_",
        "outputId": "eb149e3b-4481-4365-d7c2-1ea210a77fa4"
      },
      "execution_count": 10,
      "outputs": [
        {
          "output_type": "stream",
          "name": "stdout",
          "text": [
            "Fraction 1: 3/4\n",
            "Fraction 2: 1/2\n",
            "Fraction 1 (using str()): 3/4\n"
          ]
        }
      ]
    },
    {
      "cell_type": "code",
      "source": [
        "# 10. Demonstrate operator overloading by creating a class Vector and overriding the add method to add two vectors.\n",
        "\n",
        "class Vector:\n",
        "    def __init__(self, x, y):\n",
        "        self.x = x\n",
        "        self.y = y\n",
        "\n",
        "    def __str__(self):\n",
        "        return f\"Vector({self.x}, {self.y})\"\n",
        "\n",
        "    def __add__(self, other):\n",
        "        if isinstance(other, Vector):\n",
        "            new_x = self.x + other.x\n",
        "            new_y = self.y + other.y\n",
        "            return Vector(new_x, new_y)\n",
        "        else:\n",
        "            raise TypeError(\"Unsupported operand type for +: 'Vector' and '{}'\".format(type(other).__name__))\n",
        "\n",
        "# Create two Vector instances\n",
        "vector1 = Vector(2, 3)\n",
        "vector2 = Vector(1, 4)\n",
        "\n",
        "# Add the two vectors using the '+' operator (calls the __add__ method)\n",
        "vector_sum = vector1 + vector2\n",
        "\n",
        "# Print the resulting vector\n",
        "print(f\"Vector 1: {vector1}\")\n",
        "print(f\"Vector 2: {vector2}\")\n",
        "print(f\"Sum of vectors: {vector_sum}\")"
      ],
      "metadata": {
        "colab": {
          "base_uri": "https://localhost:8080/"
        },
        "id": "jMPHP2RXIks7",
        "outputId": "19ffd034-5f41-45b3-ef4a-b060343e50f6"
      },
      "execution_count": 11,
      "outputs": [
        {
          "output_type": "stream",
          "name": "stdout",
          "text": [
            "Vector 1: Vector(2, 3)\n",
            "Vector 2: Vector(1, 4)\n",
            "Sum of vectors: Vector(3, 7)\n"
          ]
        }
      ]
    },
    {
      "cell_type": "code",
      "source": [
        "# 11. Create a class Person with attributes name and age. Add a method greet() that prints \"Hello, my name is {name} and I am {age} years old.\"\n",
        "\n",
        "class Person:\n",
        "    def __init__(self, name, age):\n",
        "        self.name = name\n",
        "        self.age = age\n",
        "\n",
        "    def greet(self):\n",
        "        print(f\"Hello, my name is {self.name} and I am {self.age} years old.\")\n",
        "\n",
        "# Create an instance of the Person class\n",
        "person1 = Person(\"Alice\", 30)\n",
        "\n",
        "# Call the greet method\n",
        "person1.greet()\n",
        "\n",
        "# Create another instance\n",
        "person2 = Person(\"Bob\", 25)\n",
        "person2.greet()\n"
      ],
      "metadata": {
        "colab": {
          "base_uri": "https://localhost:8080/"
        },
        "id": "mEVW2h2-JEtO",
        "outputId": "de2c8571-ba8e-409f-901a-071b3d96a818"
      },
      "execution_count": 12,
      "outputs": [
        {
          "output_type": "stream",
          "name": "stdout",
          "text": [
            "Hello, my name is Alice and I am 30 years old.\n",
            "Hello, my name is Bob and I am 25 years old.\n"
          ]
        }
      ]
    },
    {
      "cell_type": "code",
      "source": [
        "# 12.Implement a class Student with attributes name and grades. Create a method average_grade() to compute the average of the grades.\n",
        "\n",
        "class Student:\n",
        "    def __init__(self, name, grades):\n",
        "        self.name = name\n",
        "        # Ensure grades is a list of numbers\n",
        "        if isinstance(grades, list) and all(isinstance(g, (int, float)) for g in grades):\n",
        "            self.grades = grades\n",
        "        else:\n",
        "            self.grades = []\n",
        "            print(\"Warning: Grades should be a list of numbers.\")\n",
        "\n",
        "    def average_grade(self):\n",
        "        if not self.grades:\n",
        "            return 0\n",
        "        return sum(self.grades) / len(self.grades)\n",
        "\n",
        "# Create a Student instance\n",
        "student1 = Student(\"Alice\", [85, 90, 78, 92])\n",
        "\n",
        "# Compute and print the average grade\n",
        "average = student1.average_grade()\n",
        "print(f\"{student1.name}'s average grade is: {average:.2f}\")\n",
        "\n",
        "# Create another student with no grades\n",
        "student2 = Student(\"Bob\", [])\n",
        "average2 = student2.average_grade()\n",
        "print(f\"{student2.name}'s average grade is: {average2:.2f}\")\n",
        "\n",
        "# Create a student with invalid grades\n",
        "student3 = Student(\"Charlie\", [70, 80, \"ninety\"])\n",
        "average3 = student3.average_grade()\n",
        "print(f\"{student3.name}'s average grade is: {average3:.2f}\")"
      ],
      "metadata": {
        "colab": {
          "base_uri": "https://localhost:8080/"
        },
        "id": "-Ls-mYt6JYNf",
        "outputId": "ba77aaa9-fae3-4953-bc02-ca6776741ae4"
      },
      "execution_count": 13,
      "outputs": [
        {
          "output_type": "stream",
          "name": "stdout",
          "text": [
            "Alice's average grade is: 86.25\n",
            "Bob's average grade is: 0.00\n",
            "Warning: Grades should be a list of numbers.\n",
            "Charlie's average grade is: 0.00\n"
          ]
        }
      ]
    },
    {
      "cell_type": "code",
      "source": [
        "# 13. Create a class Rectangle with methods set_dimensions() to set the dimensions and area() to calculate the area.\n",
        "\n",
        "class Rectangle:\n",
        "    def __init__(self):\n",
        "        self.length = 0\n",
        "        self.width = 0\n",
        "\n",
        "    def set_dimensions(self, length, width):\n",
        "        if length >= 0 and width >= 0:\n",
        "            self.length = length\n",
        "            self.width = width\n",
        "            print(f\"Rectangle dimensions set to: Length = {self.length}, Width = {self.width}\")\n",
        "        else:\n",
        "            print(\"Dimensions must be non-negative.\")\n",
        "\n",
        "\n",
        "    def area(self):\n",
        "        return self.length * self.width\n",
        "\n",
        "# Create a Rectangle instance\n",
        "rectangle1 = Rectangle()\n",
        "\n",
        "# Set the dimensions\n",
        "rectangle1.set_dimensions(5, 10)\n",
        "\n",
        "# Calculate and print the area\n",
        "rectangle_area = rectangle1.area()\n",
        "print(rectangle_area)\n",
        "\n",
        "# Set new dimensions\n",
        "rectangle1.set_dimensions(7, 3)\n",
        "rectangle_area_new = rectangle1.area()\n",
        "print(rectangle_area_new)"
      ],
      "metadata": {
        "colab": {
          "base_uri": "https://localhost:8080/"
        },
        "id": "QgOEQ_gkKHfY",
        "outputId": "32668c6b-b6e4-482e-ec29-c44513a08f02"
      },
      "execution_count": 14,
      "outputs": [
        {
          "output_type": "stream",
          "name": "stdout",
          "text": [
            "Rectangle dimensions set to: Length = 5, Width = 10\n",
            "50\n",
            "Rectangle dimensions set to: Length = 7, Width = 3\n",
            "21\n"
          ]
        }
      ]
    },
    {
      "cell_type": "code",
      "source": [
        "# 14.Create a class Employee with a method calculate_salary() that computes the salary based on hours worked and hourly rate. Create a derived class Manager that adds a bonus to the salary.\n",
        "\n",
        "class Employee:\n",
        "    def __init__(self, name, hourly_rate):\n",
        "        self.name = name\n",
        "        self.hourly_rate = hourly_rate\n",
        "\n",
        "    def calculate_salary(self, hours_worked):\n",
        "        return hours_worked * self.hourly_rate\n",
        "\n",
        "class Manager(Employee):\n",
        "    def __init__(self, name, hourly_rate, bonus):\n",
        "        super().__init__(name, hourly_rate)\n",
        "        self.bonus = bonus\n",
        "\n",
        "    def calculate_salary(self, hours_worked):\n",
        "        base_salary = super().calculate_salary(hours_worked)\n",
        "        return base_salary + self.bonus\n",
        "\n",
        "# Create an Employee instance\n",
        "employee1 = Employee(\"Alice\", 20)\n",
        "employee_salary = employee1.calculate_salary(40)\n",
        "print(f\"{employee1.name}'s salary: ${employee_salary:.2f}\")\n",
        "\n",
        "# Create a Manager instance\n",
        "manager1 = Manager(\"Bob\", 30, 500)\n",
        "manager_salary = manager1.calculate_salary(40)\n",
        "print(f\"{manager1.name}'s salary: ${manager_salary:.2f}\")"
      ],
      "metadata": {
        "colab": {
          "base_uri": "https://localhost:8080/"
        },
        "id": "e52iyfKYKpn4",
        "outputId": "25752c14-4f64-4455-e032-a4cb30fee751"
      },
      "execution_count": 15,
      "outputs": [
        {
          "output_type": "stream",
          "name": "stdout",
          "text": [
            "Alice's salary: $800.00\n",
            "Bob's salary: $1700.00\n"
          ]
        }
      ]
    },
    {
      "cell_type": "code",
      "source": [
        "# 15. Create a class Product with attributes name, price, and quantity. Implement a method total_price() that calculates the total price of the product.\n",
        "\n",
        "class Product:\n",
        "    def __init__(self, name, price, quantity):\n",
        "        self.name = name\n",
        "        self.price = price\n",
        "        self.quantity = quantity\n",
        "\n",
        "    def total_price(self):\n",
        "        # Basic validation to ensure price and quantity are non-negative\n",
        "        if self.price >= 0 and self.quantity >= 0:\n",
        "            return self.price * self.quantity\n",
        "        else:\n",
        "            print(\"Price and quantity must be non-negative.\")\n",
        "            return 0 # Return 0 or handle error as appropriate\n",
        "\n",
        "# Create a Product instance\n",
        "product1 = Product(\"Laptop\", 1200.00, 2)\n",
        "\n",
        "# Calculate and print the total price\n",
        "total = product1.total_price()\n",
        "print(f\"The total price for {product1.name} is: ${total:.2f}\")\n",
        "\n",
        "# Create another product\n",
        "product2 = Product(\"Mouse\", 25.50, 5)\n",
        "total2 = product2.total_price()\n",
        "print(f\"The total price for {product2.name} is: ${total2:.2f}\")\n",
        "\n",
        "# Example with negative values (should trigger the warning)\n",
        "product3 = Product(\"Keyboard\", 75.00, -1)\n",
        "total3 = product3.total_price()\n",
        "print(f\"The total price for {product3.name} is: ${total3:.2f}\")"
      ],
      "metadata": {
        "colab": {
          "base_uri": "https://localhost:8080/"
        },
        "id": "Kt27oi-4LEtl",
        "outputId": "74027aac-7c93-4e15-dd71-b30b478dd3e5"
      },
      "execution_count": 16,
      "outputs": [
        {
          "output_type": "stream",
          "name": "stdout",
          "text": [
            "The total price for Laptop is: $2400.00\n",
            "The total price for Mouse is: $127.50\n",
            "Price and quantity must be non-negative.\n",
            "The total price for Keyboard is: $0.00\n"
          ]
        }
      ]
    },
    {
      "cell_type": "code",
      "source": [
        "# 16.Create a class Animal with an abstract method sound(). Create two derived classes Cow and Sheep thatimplement the sound() method.\n",
        "\n",
        "from abc import ABC, abstractmethod\n",
        "\n",
        "class Animal(ABC): # Inherit from ABC to make it an abstract class\n",
        "    @abstractmethod\n",
        "    def sound(self):\n",
        "        pass # No implementation in the abstract class\n",
        "\n",
        "    def eat(self):\n",
        "        print(\"This animal is eating.\")\n",
        "\n",
        "class Cow(Animal):\n",
        "    def sound(self):\n",
        "        print(\"Moo!\")\n",
        "\n",
        "class Sheep(Animal):\n",
        "    def sound(self):\n",
        "        print(\"Baa!\")\n",
        "\n",
        "# Create instances of the concrete subclasses\n",
        "cow = Cow()\n",
        "sheep = Sheep()\n",
        "\n",
        "# Call the implemented sound() method\n",
        "print(\"Animal sounds:\")\n",
        "cow.sound()\n",
        "sheep.sound()\n",
        "\n",
        "# Call the inherited eat() method\n",
        "print(\"\\nAnimal eating:\")\n",
        "cow.eat()\n",
        "sheep.eat()"
      ],
      "metadata": {
        "colab": {
          "base_uri": "https://localhost:8080/"
        },
        "id": "SHvm4JcNLbCA",
        "outputId": "7012eb47-4589-4033-eed2-71a94eba6f10"
      },
      "execution_count": 17,
      "outputs": [
        {
          "output_type": "stream",
          "name": "stdout",
          "text": [
            "Animal sounds:\n",
            "Moo!\n",
            "Baa!\n",
            "\n",
            "Animal eating:\n",
            "This animal is eating.\n",
            "This animal is eating.\n"
          ]
        }
      ]
    },
    {
      "cell_type": "code",
      "source": [
        "# 17. Create a class Book with attributes title, author, and year_published. Add a method get_book_info() that returns a formatted string with the book's details.\n",
        "\n",
        "class Book:\n",
        "    def __init__(self, title, author, year_published):\n",
        "        self.title = title\n",
        "        self.author = author\n",
        "        self.year_published = year_published\n",
        "\n",
        "    def get_book_info(self):\n",
        "        return f\"Title: {self.title}, Author: {self.author}, Published: {self.year_published}\"\n",
        "\n",
        "# Create a Book instance\n",
        "book1 = Book(\"The Lord of the Rings\", \"J.R.R. Tolkien\", 1954)\n",
        "\n",
        "# Get and print the book information using the method\n",
        "book_info = book1.get_book_info()\n",
        "print(book_info)\n",
        "\n",
        "# Create another Book instance\n",
        "book2 = Book(\"Pride and Prejudice\", \"Jane Austen\", 1813)\n",
        "print(book2.get_book_info())"
      ],
      "metadata": {
        "colab": {
          "base_uri": "https://localhost:8080/"
        },
        "id": "_iVAMtVWL6fV",
        "outputId": "3cc8df94-6607-4ff0-9c0b-d1c6abed95ea"
      },
      "execution_count": 19,
      "outputs": [
        {
          "output_type": "stream",
          "name": "stdout",
          "text": [
            "Title: The Lord of the Rings, Author: J.R.R. Tolkien, Published: 1954\n",
            "Title: Pride and Prejudice, Author: Jane Austen, Published: 1813\n"
          ]
        }
      ]
    },
    {
      "cell_type": "code",
      "source": [
        "# 18.Create a class House with attributes address and price. Create a derived class Mansion that adds an attribute number_of_rooms.\n",
        "\n",
        "class House:\n",
        "    def __init__(self, address, price):\n",
        "        self.address = address\n",
        "        self.price = price\n",
        "        print(f\"House created at {self.address} with price ${self.price}\")\n",
        "\n",
        "class Mansion(House):\n",
        "    def __init__(self, address, price, number_of_rooms):\n",
        "        super().__init__(address, price) # Call the parent class's constructor\n",
        "        self.number_of_rooms = number_of_rooms\n",
        "        print(f\"Mansion created with {self.number_of_rooms} rooms.\")\n",
        "\n",
        "# Create a House instance\n",
        "house1 = House(\"123 Main St\", 300000)\n",
        "\n",
        "# Create a Mansion instance\n",
        "mansion1 = Mansion(\"456 Oak Ave\", 1500000, 20)\n",
        "\n",
        "# Access attributes from both classes\n",
        "print(f\"\\nMansion Details:\")\n",
        "print(f\"Address: {mansion1.address}\")\n",
        "print(f\"Price: ${mansion1.price}\")\n",
        "print(f\"Number of Rooms: {mansion1.number_of_rooms}\")"
      ],
      "metadata": {
        "colab": {
          "base_uri": "https://localhost:8080/"
        },
        "id": "tW2Tu1uCMY-0",
        "outputId": "613eb5ce-3db5-40d5-f6ed-1741aaf993ed"
      },
      "execution_count": 21,
      "outputs": [
        {
          "output_type": "stream",
          "name": "stdout",
          "text": [
            "House created at 123 Main St with price $300000\n",
            "House created at 456 Oak Ave with price $1500000\n",
            "Mansion created with 20 rooms.\n",
            "\n",
            "Mansion Details:\n",
            "Address: 456 Oak Ave\n",
            "Price: $1500000\n",
            "Number of Rooms: 20\n"
          ]
        }
      ]
    },
    {
      "cell_type": "code",
      "source": [],
      "metadata": {
        "id": "B6ik9Y_WNABw"
      },
      "execution_count": null,
      "outputs": []
    }
  ]
}