{
  "nbformat": 4,
  "nbformat_minor": 0,
  "metadata": {
    "colab": {
      "provenance": []
    },
    "kernelspec": {
      "name": "python3",
      "display_name": "Python 3"
    },
    "language_info": {
      "name": "python"
    }
  },
  "cells": [
    {
      "cell_type": "code",
      "execution_count": 3,
      "metadata": {
        "id": "5vqBUaHzi0Nb"
      },
      "outputs": [],
      "source": [
        "# Python  Basic"
      ]
    },
    {
      "cell_type": "code",
      "source": [
        "# 1. Write a Python program to print \"Hello, World!\"\n",
        "\n",
        "a = \"Hello, World!\"\n",
        "print(a)"
      ],
      "metadata": {
        "colab": {
          "base_uri": "https://localhost:8080/"
        },
        "id": "fqsE6rGdjL_U",
        "outputId": "20e0cea4-d80d-4107-ab3a-a1eb0994419a"
      },
      "execution_count": 4,
      "outputs": [
        {
          "output_type": "stream",
          "name": "stdout",
          "text": [
            "Hello, World!\n"
          ]
        }
      ]
    },
    {
      "cell_type": "code",
      "source": [
        "# 2. Write a Python program that displays your name and age.\n",
        "\n",
        "name = \"Lalan Kumar\"\n",
        "age = 24\n",
        "\n",
        "print(name)\n",
        "print(age)\n"
      ],
      "metadata": {
        "colab": {
          "base_uri": "https://localhost:8080/"
        },
        "id": "aMFrlUMjkWvO",
        "outputId": "00cf42e7-8e79-4f46-df8a-013ea9c15807"
      },
      "execution_count": 5,
      "outputs": [
        {
          "output_type": "stream",
          "name": "stdout",
          "text": [
            "Lalan Kumar\n",
            "24\n"
          ]
        }
      ]
    },
    {
      "cell_type": "code",
      "source": [
        "# 3. Write code to print all the pre-defined keywords in Python using the keyword library.\n",
        "\n",
        "import keyword\n",
        "\n",
        "print(\"Pre-defined keywords in Python:\")\n",
        "for kw in keyword.kwlist:\n",
        "  print(kw)"
      ],
      "metadata": {
        "colab": {
          "base_uri": "https://localhost:8080/"
        },
        "id": "54ng8519k3eb",
        "outputId": "86b03323-aba8-498d-c97f-302628ca60b8"
      },
      "execution_count": 6,
      "outputs": [
        {
          "output_type": "stream",
          "name": "stdout",
          "text": [
            "Pre-defined keywords in Python:\n",
            "False\n",
            "None\n",
            "True\n",
            "and\n",
            "as\n",
            "assert\n",
            "async\n",
            "await\n",
            "break\n",
            "class\n",
            "continue\n",
            "def\n",
            "del\n",
            "elif\n",
            "else\n",
            "except\n",
            "finally\n",
            "for\n",
            "from\n",
            "global\n",
            "if\n",
            "import\n",
            "in\n",
            "is\n",
            "lambda\n",
            "nonlocal\n",
            "not\n",
            "or\n",
            "pass\n",
            "raise\n",
            "return\n",
            "try\n",
            "while\n",
            "with\n",
            "yield\n"
          ]
        }
      ]
    },
    {
      "cell_type": "code",
      "source": [
        "# 4. Write a program that checks if a given word is a Python keyword.\n",
        "\n",
        "import keyword\n",
        "\n",
        "word = \"if\"\n",
        "\n",
        "if keyword.iskeyword(word):\n",
        "  print(f\"{word} is a Python keyword.\")\n",
        "else:\n",
        "  print(f\"{word} is not a Python keyword.\")"
      ],
      "metadata": {
        "colab": {
          "base_uri": "https://localhost:8080/"
        },
        "id": "qIuRdJz9l4Qo",
        "outputId": "d6a6b7d2-f962-47ed-e6f5-915c665c5fc2"
      },
      "execution_count": 7,
      "outputs": [
        {
          "output_type": "stream",
          "name": "stdout",
          "text": [
            "if is a Python keyword.\n"
          ]
        }
      ]
    },
    {
      "cell_type": "code",
      "source": [
        "# 5. Create a list and tuple in Python, and demonstrate how attempting to change an element works differently for each.\n",
        "\n",
        "# Create a list\n",
        "my_list = [1, 2, 3, 4, 5]\n",
        "print(\"Original list:\", my_list)\n",
        "\n",
        "# Attempt to change an element in the list\n",
        "try:\n",
        "  my_list[2] = 10\n",
        "  print(\"List after attempting to change an element:\", my_list)\n",
        "except TypeError as e:\n",
        "  print(\"Error changing list element:\", e)\n",
        "\n",
        "print(\"-\" * 20) # Separator\n",
        "\n",
        "# Create a tuple\n",
        "my_tuple = (1, 2, 3, 4, 5)\n",
        "print(\"Original tuple:\", my_tuple)\n",
        "\n",
        "# Attempt to change an element in the tuple\n",
        "try:\n",
        "  my_tuple[2] = 10\n",
        "  print(\"Tuple after attempting to change an element:\", my_tuple)\n",
        "except TypeError as e:\n",
        "  print(\"Error changing tuple element:\", e)"
      ],
      "metadata": {
        "colab": {
          "base_uri": "https://localhost:8080/"
        },
        "id": "yTLGynurmSW5",
        "outputId": "ca4f1e2a-2fa3-412c-e61c-3feb3588f35d"
      },
      "execution_count": 8,
      "outputs": [
        {
          "output_type": "stream",
          "name": "stdout",
          "text": [
            "Original list: [1, 2, 3, 4, 5]\n",
            "List after attempting to change an element: [1, 2, 10, 4, 5]\n",
            "--------------------\n",
            "Original tuple: (1, 2, 3, 4, 5)\n",
            "Error changing tuple element: 'tuple' object does not support item assignment\n"
          ]
        }
      ]
    },
    {
      "cell_type": "code",
      "source": [
        "# 6. Write a function to demonstrate the behavior of mutable and immutable arguments.\n",
        "\n",
        "def demonstrate_mutability(mutable_list, immutable_int):\n",
        "  \"\"\"\n",
        "  Demonstrates the behavior of mutable and immutable arguments in a function.\n",
        "  \"\"\"\n",
        "  print(\"Inside the function:\")\n",
        "  print(\"Initial mutable_list:\", mutable_list)\n",
        "  print(\"Initial immutable_int:\", immutable_int)\n",
        "\n",
        "  # Modify the mutable argument (list)\n",
        "  mutable_list.append(6)\n",
        "  mutable_list[0] = 99\n",
        "\n",
        "  # Attempt to modify the immutable argument (integer)\n",
        "  immutable_int = immutable_int + 10\n",
        "\n",
        "  print(\"mutable_list after modification:\", mutable_list)\n",
        "  print(\"immutable_int after attempted modification:\", immutable_int)\n",
        "  print(\"-\" * 20)\n",
        "\n",
        "# Create a mutable object (list) and an immutable object (integer)\n",
        "my_list = [1, 2, 3]\n",
        "my_int = 100\n",
        "\n",
        "print(\"Outside the function (before call):\")\n",
        "print(\"my_list:\", my_list)\n",
        "print(\"my_int:\", my_int)\n",
        "print(\"-\" * 20)\n",
        "\n",
        "# Call the function\n",
        "demonstrate_mutability(my_list, my_int)\n",
        "\n",
        "print(\"Outside the function (after call):\")\n",
        "print(\"my_list:\", my_list)\n",
        "print(\"my_int:\", my_int)"
      ],
      "metadata": {
        "colab": {
          "base_uri": "https://localhost:8080/"
        },
        "id": "gNkTUYnunZnf",
        "outputId": "081ccf28-1887-44fa-d76e-f622b2f111b6"
      },
      "execution_count": 9,
      "outputs": [
        {
          "output_type": "stream",
          "name": "stdout",
          "text": [
            "Outside the function (before call):\n",
            "my_list: [1, 2, 3]\n",
            "my_int: 100\n",
            "--------------------\n",
            "Inside the function:\n",
            "Initial mutable_list: [1, 2, 3]\n",
            "Initial immutable_int: 100\n",
            "mutable_list after modification: [99, 2, 3, 6]\n",
            "immutable_int after attempted modification: 110\n",
            "--------------------\n",
            "Outside the function (after call):\n",
            "my_list: [99, 2, 3, 6]\n",
            "my_int: 100\n"
          ]
        }
      ]
    },
    {
      "cell_type": "code",
      "source": [
        "# 7. Write a program that performs basic arithmetic operations on two user-input numbers.\n",
        "\n",
        "num1 = int(input(\"Enter the first number: \"))\n",
        "num2 = int(input(\"Enter the second number: \"))\n",
        "\n",
        "# Addition\n",
        "addition = num1 + num2\n",
        "print(f\"Addition: {num1} + {num2} = {addition}\")"
      ],
      "metadata": {
        "colab": {
          "base_uri": "https://localhost:8080/"
        },
        "id": "LTj_3SeYoKIl",
        "outputId": "d5d77c9c-4d66-40c9-e38c-d3fa63146750"
      },
      "execution_count": 11,
      "outputs": [
        {
          "output_type": "stream",
          "name": "stdout",
          "text": [
            "Enter the first number: 10\n",
            "Enter the second number: 20\n",
            "Addition: 10 + 20 = 30\n"
          ]
        }
      ]
    },
    {
      "cell_type": "code",
      "source": [
        "# 8. Write a program to demonstrate the use of logical operators.\n",
        "\n",
        "# Demonstrate the 'and' operator\n",
        "x = 10\n",
        "y = 20\n",
        "\n",
        "if (x > 5 and y < 25):\n",
        "  print(\"Both conditions are true\")\n",
        "else:\n",
        "  print(\"At least one condition is false\")\n",
        "\n",
        "# Demonstrate the 'or' operator\n",
        "z = 5\n",
        "\n",
        "if (x > 5 or z < 10):\n",
        "  print(\"At least one condition is true\")\n",
        "else:\n",
        "  print(\"Both conditions are false\")\n",
        "\n",
        "# Demonstrate the 'not' operator\n",
        "if not (x > 15):\n",
        "  print(\"Condition is true\")\n",
        "else:\n",
        "  print(\"Condition is false\")"
      ],
      "metadata": {
        "colab": {
          "base_uri": "https://localhost:8080/"
        },
        "id": "pABuVRzHovTu",
        "outputId": "f564c1d4-e28c-4535-8f8b-01d3c2770371"
      },
      "execution_count": 12,
      "outputs": [
        {
          "output_type": "stream",
          "name": "stdout",
          "text": [
            "Both conditions are true\n",
            "At least one condition is true\n",
            "Condition is true\n"
          ]
        }
      ]
    },
    {
      "cell_type": "code",
      "source": [
        "# 9. Write a Python program to convert user input from string to integer, float, and boolean types.\n",
        "\n",
        "# Get input from the user\n",
        "user_input_str = input(\"Enter a value: \")\n",
        "print(type(user_input_str))\n",
        "\n",
        "# Convert to integer\n",
        "user_input_int = int(user_input_str)\n",
        "print(type(user_input_int))\n",
        "\n",
        "# Convert to float\n",
        "user_input_float = float(user_input_str)\n",
        "print(type(user_input_float))\n",
        "\n",
        "# Convert to boolean\n",
        "user_input_bool = bool(user_input_str)\n",
        "print(type(user_input_bool))"
      ],
      "metadata": {
        "colab": {
          "base_uri": "https://localhost:8080/"
        },
        "id": "cDKgm-klqesn",
        "outputId": "006f2c95-29b0-4cf6-edc5-0c3bcce07c7e"
      },
      "execution_count": 13,
      "outputs": [
        {
          "output_type": "stream",
          "name": "stdout",
          "text": [
            "Enter a value: 25\n",
            "<class 'str'>\n",
            "<class 'int'>\n",
            "<class 'float'>\n",
            "<class 'bool'>\n"
          ]
        }
      ]
    },
    {
      "cell_type": "code",
      "source": [
        "# 10. Write code to demonstrate type casting with list elements.\n",
        "\n",
        "# Create a list with elements of different types\n",
        "mixed_list = [\"123\", 45.67, \"Data Science\", 99, False]\n",
        "print(mixed_list)\n",
        "\n",
        "# Demonstrate type casting for individual elements\n",
        "\n",
        "# Convert the first element (string) to integer\n",
        "int_element = int(mixed_list[0])\n",
        "print(int_element)\n",
        "print(type(int_element))\n",
        "\n",
        "\n",
        "# Convert the second element (float) to integer\n",
        "integer_element = int(mixed_list[1])\n",
        "print(integer_element)\n",
        "print(type(integer_element))\n",
        "\n",
        "# Convert the third element (string) to boolean\n",
        "# Note: bool() converts non-empty strings to True\n",
        "bool_element = bool(mixed_list[4])\n",
        "print(bool_element)\n",
        "print(type(bool_element))\n",
        "\n",
        "# Convert the fourth element (integer) to string\n",
        "str_element = str(mixed_list[3])\n",
        "print(str_element)\n",
        "print(type(str_element))"
      ],
      "metadata": {
        "colab": {
          "base_uri": "https://localhost:8080/"
        },
        "id": "QKRnlSbCtR7C",
        "outputId": "55626d23-4851-48b4-de3a-8a5f4c0a8850"
      },
      "execution_count": 15,
      "outputs": [
        {
          "output_type": "stream",
          "name": "stdout",
          "text": [
            "['123', 45.67, 'Data Science', 99, False]\n",
            "123\n",
            "<class 'int'>\n",
            "45\n",
            "<class 'int'>\n",
            "False\n",
            "<class 'bool'>\n",
            "99\n",
            "<class 'str'>\n"
          ]
        }
      ]
    },
    {
      "cell_type": "code",
      "source": [
        "# 11. Write a program that checks if a number is positive, negative, or zero.\n",
        "\n",
        "# Get input from the user and convert it to a number\n",
        "\n",
        "num = int(input(\"Enter a number: \"))\n",
        "print(num)\n",
        "\n",
        "# Check if the number is positive, negative, or zero\n",
        "\n",
        "if num > 0:\n",
        "  print(\"The number is positive.\")\n",
        "elif num < 0:\n",
        "  print(\"The number is negative.\")\n",
        "else:\n",
        "  print(\"The number is zero.\")"
      ],
      "metadata": {
        "colab": {
          "base_uri": "https://localhost:8080/"
        },
        "id": "wXoK7Sb4wcoX",
        "outputId": "b111be0d-f8db-4679-bce2-e8012ad3e73d"
      },
      "execution_count": 19,
      "outputs": [
        {
          "output_type": "stream",
          "name": "stdout",
          "text": [
            "Enter a number: 0\n",
            "0\n",
            "The number is zero.\n"
          ]
        }
      ]
    },
    {
      "cell_type": "code",
      "source": [
        "# 12. Write a for loop to print numbers from 1 to 10.\n",
        "\n",
        "for i in range(1, 11):\n",
        "  print(i)"
      ],
      "metadata": {
        "colab": {
          "base_uri": "https://localhost:8080/"
        },
        "id": "hOqVl6Pxydfv",
        "outputId": "5b59358a-25df-43c3-ca2d-46012492258d"
      },
      "execution_count": 20,
      "outputs": [
        {
          "output_type": "stream",
          "name": "stdout",
          "text": [
            "1\n",
            "2\n",
            "3\n",
            "4\n",
            "5\n",
            "6\n",
            "7\n",
            "8\n",
            "9\n",
            "10\n"
          ]
        }
      ]
    },
    {
      "cell_type": "code",
      "source": [
        "# 13. Write a Python program to find the sum of all even numbers between 1 and 50.\n",
        "\n",
        "# Initialize a variable to store the sum\n",
        "sum_of_even_numbers = 0\n",
        "\n",
        "# Iterate through numbers from 1 to 50\n",
        "for number in range(1, 51):\n",
        "\n",
        "  # Check if the number is even\n",
        "  if number % 2 == 0:\n",
        "\n",
        "    # Add the even number to the sum\n",
        "    sum_of_even_numbers += number\n",
        "\n",
        "# Print the result\n",
        "print(\"sum_of_even_numbers\", sum_of_even_numbers)"
      ],
      "metadata": {
        "colab": {
          "base_uri": "https://localhost:8080/"
        },
        "id": "YcEE3K2AzC7m",
        "outputId": "c0665b3e-81a1-40f7-86e2-cb00a42c0f77"
      },
      "execution_count": 31,
      "outputs": [
        {
          "output_type": "stream",
          "name": "stdout",
          "text": [
            "sum_of_even_numbers 650\n"
          ]
        }
      ]
    },
    {
      "cell_type": "code",
      "source": [
        "# 14. Write a program to reverse a string using a while loop.\n",
        "\n",
        "# Get input string from the user\n",
        "input_string = input(\"Enter a string to reverse: \")\n",
        "\n",
        "# Initialize an empty string to store the reversed string\n",
        "reversed_string = \"\"\n",
        "\n",
        "# Initialize an index starting from the last character of the input string\n",
        "index = len(input_string) - 1\n",
        "\n",
        "# Use a while loop to iterate from the last character to the first\n",
        "while index >= 0:\n",
        "  # Append the character at the current index to the reversed string\n",
        "  reversed_string += input_string[index]\n",
        "\n",
        "  # Decrement the index\n",
        "  index -= 1\n",
        "\n",
        "# Print the reversed string\n",
        "print(\"reversed_string = \", reversed_string)\n"
      ],
      "metadata": {
        "colab": {
          "base_uri": "https://localhost:8080/"
        },
        "id": "cY_zRnhazh9p",
        "outputId": "6d1ed83d-e521-4976-b46c-947f4f987c68"
      },
      "execution_count": 32,
      "outputs": [
        {
          "output_type": "stream",
          "name": "stdout",
          "text": [
            "Enter a string to reverse: lalan\n",
            "reversed_string =  nalal\n"
          ]
        }
      ]
    },
    {
      "cell_type": "code",
      "source": [
        "# 15. Write a Python program to calculate the factorial of a number provided by the user using a while loop.\n",
        "\n",
        "# Get input from the user\n",
        "num = int(input(\"Enter a non-negative integer to calculate its factorial: \"))\n",
        "\n",
        "# Check if the number is non-negative\n",
        "if num < 0:\n",
        "    print(\"Factorial is not defined for negative numbers.\")\n",
        "elif num == 0:\n",
        "    print(\"The factorial of 0 is 1.\")\n",
        "else:\n",
        "    factorial = 1\n",
        "    count = 1\n",
        "    while count <= num:\n",
        "      factorial *= count\n",
        "      count += 1\n",
        "    print(\"factorial\", factorial)"
      ],
      "metadata": {
        "colab": {
          "base_uri": "https://localhost:8080/"
        },
        "id": "IDBGKVUf35z3",
        "outputId": "1b9db10e-e8b2-4f64-a253-fb0b9a2b1caa"
      },
      "execution_count": 33,
      "outputs": [
        {
          "output_type": "stream",
          "name": "stdout",
          "text": [
            "Enter a non-negative integer to calculate its factorial: 5\n",
            "factorial 120\n"
          ]
        }
      ]
    },
    {
      "cell_type": "code",
      "source": [],
      "metadata": {
        "id": "W9rZN2Wt50Vb"
      },
      "execution_count": null,
      "outputs": []
    }
  ]
}