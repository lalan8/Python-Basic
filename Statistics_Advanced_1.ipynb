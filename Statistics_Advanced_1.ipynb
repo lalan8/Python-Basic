{
  "nbformat": 4,
  "nbformat_minor": 0,
  "metadata": {
    "colab": {
      "provenance": []
    },
    "kernelspec": {
      "name": "python3",
      "display_name": "Python 3"
    },
    "language_info": {
      "name": "python"
    }
  },
  "cells": [
    {
      "cell_type": "markdown",
      "source": [
        "**Statistics Advanced - 1| Assignment**\n",
        "\n",
        "\n",
        "Q1. What is a random variable in probability theory?\n",
        "- In probability theory, a random variable is a variable whose possible values are numerical outcomes of a random phenomenon.\n",
        "\n",
        "Think of it like this:\n",
        "- Random phenomenon: Something where the outcome is uncertain (like flipping a coin, rolling a die, or picking a random person from a group).\n",
        "Random variable: A rule that assigns a number to each possible outcome of that random phenomenon.\n",
        "\n",
        "Q2. What are the types of random variables?\n",
        "\n",
        "There are two main types of random variables:\n",
        "\n",
        "- Discrete Random Variables: These variables can only take on a finite number of values or a countably infinite number of values. The possible values are distinct and often integers.\n",
        "\n",
        "Examples:\n",
        "- The number of heads when flipping a coin 5 times (possible values: 0, 1, 2, 3, 4, 5).\n",
        "The number of cars passing a certain point on a road in an hour.\n",
        "The outcome of rolling a standard six-sided die (possible values: 1, 2, 3, 4, 5, 6).\n",
        "\n",
        "Continuous Random Variables: These variables can take on any value within a given range or interval. Their possible values are uncountable.\n",
        "\n",
        "- Examples:\n",
        "The height of a randomly selected person.\n",
        "The time it takes for a light bulb to burn out.\n",
        "The temperature of a room.\n",
        "The amount of rainfall in a city during a month.\n",
        "\n",
        "Q3. Explain the difference between discrete and continuous distributions.\n",
        "- The difference between discrete and continuous distributions lies in the type of random variable they describe:\n",
        "\n",
        "Discrete Probability Distributions:\n",
        "- These describe the probabilities of a discrete random variable taking on each of its possible values.\n",
        "The sum of the probabilities for all possible values must equal 1.\n",
        "The probability at any single point is meaningful (e.g., the probability of rolling exactly a 3 on a die).\n",
        "They are often represented by probability mass functions (PMFs), which show the probability for each specific outcome.\n",
        "Continuous Probability Distributions: These describe the probabilities of a continuous random variable falling within a certain range of values.\n",
        "\n",
        "- The probability of a continuous random variable taking on any single specific value is essentially zero. This is because there are infinitely many possible values within any range.\n",
        "\n",
        "- Instead of probabilities at single points, we talk about the probability density over an interval. The area under the probability density function (PDF) between two points represents the probability that the variable falls within that range.\n",
        "\n",
        "- They are represented by probability density functions (PDFs). The height of the PDF at a point indicates the relative likelihood of the variable being around that value.\n",
        "\n",
        "In summary:\n",
        "- Discrete: Probabilities are assigned to individual, countable values.\n",
        "Continuous: Probabilities are assigned to intervals of values, and the concept of probability density is used.\n",
        "\n",
        "Q4. What is a binomial distribution, and how is it used in probability?\n",
        "- A binomial distribution is a discrete probability distribution that describes the probability of obtaining a specific number of successes in a fixed number of independent Bernoulli trials.\n",
        "\n",
        "Here's a breakdown of the key components:\n",
        "\n",
        "- Bernoulli Trial: A single experiment with only two possible outcomes: \"success\" or \"failure\". The probability of success remains constant for each trial. Think of a single coin flip (Heads = success, Tails = failure).\n",
        "Fixed Number of Trials (n): The total number of times the Bernoulli trial is repeated.\n",
        "\n",
        "- Independent Trials: The outcome of one trial does not affect the outcome of any other trial.\n",
        "Probability of Success (p): The probability of getting a \"success\" in a single Bernoulli trial. The probability of failure is then (1-p).\n",
        "Number of Successes (k): The specific number of successes we are interested in finding the probability for.\n",
        "\n",
        "How it's used in probability:\n",
        "- The binomial distribution is used to model situations where you have a series of independent trials, each with two possible outcomes, and you want to know the probability of getting a certain number of successes. It's widely used in various fields:\n",
        "\n",
        "- Quality Control: To determine the probability of finding a certain number of defective items in a sample.\n",
        "Medicine: To calculate the probability of a certain number of patients responding to a treatment.\n",
        "Marketing: To predict the probability of a certain number of customers clicking on an ad.\n",
        "Genetics: To model the probability of inheriting certain traits.\n",
        "Sports: To estimate the probability of a player making a certain number of successful shots.\n",
        "\n",
        "Q5. What is the standard normal distribution, and why is it important?\n",
        "- The standard normal distribution is a special case of the normal distribution. It's a continuous probability distribution with a mean of 0 and a standard deviation of 1. It's also known as the z-distribution.\n",
        "\n",
        "Here are its key characteristics:\n",
        "\n",
        "- Bell-shaped and Symmetrical: Like all normal distributions, it's bell-shaped and symmetrical around its mean.\n",
        "Mean of 0: The center of the distribution is at 0.\n",
        "Standard Deviation of 1: The spread of the distribution is defined by a standard deviation of 1.\n",
        "Total Area Under the Curve is 1: As with all probability distributions, the total area under the curve is equal to 1, representing 100% probability.\n",
        "\n",
        "Why is it important?\n",
        "- The standard normal distribution is incredibly important in statistics and probability for several reasons:\n",
        "\n",
        "- Standardization (Z-scores): Any normal distribution can be transformed into the standard normal distribution by using a z-score. A z-score tells you how many standard deviations a particular value is away from the mean. This allows you to compare values from different normal distributions.\n",
        "\n",
        "- Probability Calculation: With the standard normal distribution, you can easily find the probability of a value falling within a certain range using z-tables or statistical software. Because any normal distribution can be standardized, you can then use the standard normal distribution to find probabilities for any normal distribution.\n",
        "\n",
        "- Statistical Inference: Many statistical tests and procedures are based on the assumption of normality. The standard normal distribution is the foundation for these tests, allowing us to make inferences about populations based on sample data.\n",
        "\n",
        "- Central Limit Theorem: The Central Limit Theorem states that the distribution of sample means approaches a normal distribution as the sample size increases, regardless of the original population distribution. This is crucial because it allows us to use the properties of the normal (and thus standard normal) distribution to analyze sample data.\n",
        "\n",
        "- Foundation for Other Distributions: Some other important probability distributions (like the t-distribution and chi-squared distribution) are derived from the standard normal distribution.\n",
        "\n",
        "Q6. What is the Central Limit Theorem (CLT), and why is it critical in statistics?\n",
        "- The Central Limit Theorem (CLT) is a fundamental concept in probability and statistics. In simple terms, it states that if you take a sufficiently large number of random samples from any population, the distribution of the sample means will be approximately normally distributed, regardless of the original population's distribution.\n",
        "\n",
        "Here are the key aspects of the CLT:\n",
        "\n",
        "- Applies to Sample Means: The theorem is about the distribution of the means of samples, not the distribution of the individual data points in the population.\n",
        "Large Sample Size: The \"sufficiently large\" sample size is generally considered to be around 30 or more, although it can be smaller for populations that are already close to normally distributed.\n",
        "Approaches Normality: As the sample size increases, the distribution of the sample means gets closer and closer to a normal distribution.\n",
        "Mean of the Sample Means: The mean of the distribution of sample means will be equal to the mean of the original population.\n",
        "\n",
        "- Standard Deviation of the Sample Means (Standard Error): The standard deviation of the distribution of sample means is called the standard error, and it is equal to the population standard deviation divided by the square root of the sample size.\n",
        "\n",
        "\n",
        "Why is the CLT critical in statistics?\n",
        "- The Central Limit Theorem is critical for several reasons:\n",
        "\n",
        "- Foundation for Statistical Inference: It allows us to make inferences about a population based on a sample. Since the distribution of sample means is approximately normal, we can use the properties of the normal distribution (like z-scores and probability calculations) to estimate population parameters and test hypotheses.\n",
        "\n",
        "- Allows for Parametric Tests: Many powerful statistical tests (called parametric tests) assume that the data is normally distributed. The CLT allows us to use these tests even when the original population is not normally distributed, as long as we have a sufficiently large sample size.\n",
        "\n",
        "- Estimation of Population Mean: The CLT is the basis for constructing confidence intervals for the population mean. Since we know the distribution of sample means is approximately normal, we can determine a range of values within which the true population mean is likely to fall.\n",
        "\n",
        "- Simplifies Complex Problems: In many real-world scenarios, the distribution of the population is unknown or complex. The CLT simplifies these problems by allowing us to work with the well-understood normal distribution when dealing with sample means.\n",
        "\n",
        "Q7. What is the significance of confidence intervals in statistical analysis?\n",
        "- Confidence intervals are a crucial concept in statistical analysis, providing a range of values within which we are confident the true population parameter lies. Here's why they are significant:\n",
        "\n",
        "- Estimating Population Parameters: In most statistical studies, we work with samples from a larger population. We use sample statistics (like the sample mean or proportion) to estimate the corresponding population parameters. A confidence interval provides a range around the sample statistic, giving us a more realistic picture of the true population parameter than a single point estimate.\n",
        "\n",
        "- Quantifying Uncertainty: A point estimate (like a sample mean) doesn't tell us anything about the variability or uncertainty in our estimate. A confidence interval, on the other hand, quantifies this uncertainty. The width of the interval indicates how precise our estimate is. A wider interval suggests more uncertainty, while a narrower interval suggests less uncertainty.\n",
        "\n",
        "- Interpreting Results: Confidence intervals help us interpret the results of our analysis. If a confidence interval for the difference between two groups includes zero, it suggests that there might not be a statistically significant difference between the groups. If the interval does not include zero, it suggests a statistically significant difference.\n",
        "\n",
        "- Decision Making: Confidence intervals can aid in decision-making. For example, if a company is testing a new product and wants to estimate the average customer satisfaction score, a confidence interval can help them determine a range of scores they can expect from the entire customer base. This information can be used to decide whether to launch the product.\n",
        "\n",
        "- Communication of Results: Confidence intervals are an excellent way to communicate the results of statistical analysis to others. They provide a clear and intuitive way to understand the range of plausible values for a population parameter, along with the level of confidence associated with that range.\n",
        "\n",
        "Q8. What is the concept of expected value in a probability distribution?\n",
        "- The expected value (also known as the expectation or mean) of a probability distribution is the average value we would expect to get if we were to repeat the random experiment many times. It's a measure of the central tendency of the distribution.\n",
        "\n",
        "Here's how it works for different types of probability distributions:\n",
        "For a Discrete Probability Distribution:\n",
        "\n",
        "- The expected value (E[X]) is calculated by summing the product of each possible value of the random variable (x) and its corresponding probability (P(x)).\n",
        "\n",
        " E[X] = Σ [x * P(x)]\n",
        "\n",
        "Where:\n",
        "- E[X] is the expected value of the random variable X.\n",
        " Σ represents the sum over all possible values of x.\n",
        " x is a possible value of the random variable.\n",
        " P(x) is the probability of the random variable taking on the value x.\n",
        "\n",
        "- Example: If you roll a fair six-sided die, the possible values are 1, 2, 3, 4, 5, and 6, each with a probability of 1/6. The expected value is:\n",
        "\n",
        "- E[X] = (1 * 1/6) + (2 * 1/6) + (3 * 1/6) + (4 * 1/6) + (5 * 1/6) + (6 * 1/6) = 21/6 = 3.5"
      ],
      "metadata": {
        "id": "z7P_yNETwkXy"
      }
    },
    {
      "cell_type": "code",
      "execution_count": null,
      "metadata": {
        "id": "C58wz1sCwfET"
      },
      "outputs": [],
      "source": [
        "''' Q9. Write a Python program to generate 1000 random numbers from a normal\n",
        "distribution with mean = 50 and standard deviation = 5. Compute its mean and standard\n",
        "deviation using NumPy, and draw a histogram to visualize the distribution. '''\n",
        "\n"
      ]
    },
    {
      "cell_type": "code",
      "metadata": {
        "id": "0414879c",
        "colab": {
          "base_uri": "https://localhost:8080/",
          "height": 507
        },
        "outputId": "30773532-12b1-4ae2-d955-7551555e17f6"
      },
      "source": [
        "import numpy as np\n",
        "import matplotlib.pyplot as plt\n",
        "\n",
        "# Generate 1000 random numbers from a normal distribution\n",
        "mean = 50\n",
        "std_dev = 5\n",
        "num_samples = 1000\n",
        "random_numbers = np.random.normal(mean, std_dev, num_samples)\n",
        "\n",
        "# Compute the mean and standard deviation using NumPy\n",
        "computed_mean = np.mean(random_numbers)\n",
        "computed_std_dev = np.std(random_numbers)\n",
        "\n",
        "print(f\"Generated Mean: {computed_mean}\")\n",
        "print(f\"Generated Standard Deviation: {computed_std_dev}\")\n",
        "\n",
        "# Draw a histogram to visualize the distribution\n",
        "plt.hist(random_numbers, bins=30, density=True, alpha=0.6, color='g')\n",
        "plt.title('Histogram of Random Numbers from Normal Distribution')\n",
        "plt.xlabel('Value')\n",
        "plt.ylabel('Frequency')\n",
        "plt.grid(True)\n",
        "plt.show()"
      ],
      "execution_count": 1,
      "outputs": [
        {
          "output_type": "stream",
          "name": "stdout",
          "text": [
            "Generated Mean: 49.85536402105915\n",
            "Generated Standard Deviation: 4.960287278073188\n"
          ]
        },
        {
          "output_type": "display_data",
          "data": {
            "text/plain": [
              "<Figure size 640x480 with 1 Axes>"
            ],
            "image/png": "[encoded data removed]"
          },
          "metadata": {}
        }
      ]
    },
    {
      "cell_type": "code",
      "source": [
        "''' Q10. You are working as a data analyst for a retail company. The company has\n",
        "collected daily sales data for 2 years and wants you to identify the overall sales trend.\n",
        "daily_sales = [220, 245, 210, 265, 230, 250, 260, 275, 240, 255,\n",
        " 235, 260, 245, 250, 225, 270, 265, 255, 250, 260]\n",
        "● Explain how you would apply the Central Limit Theorem to estimate the average sales\n",
        "with a 95% confidence interval.\n",
        "● Write the Python code to compute the mean sales and its confidence interval '''\n",
        "\n",
        "import numpy as np\n",
        "\n",
        "# Assume daily_sales is a list or numpy array.\n",
        "# For demonstration purposes, let's create a sample list:\n",
        "daily_sales = [150, 200, 180, 220, 250, 190, 210, 230, 170, 240, 260, 200, 215, 185, 225]\n",
        "\n",
        "# Convert to a NumPy array if it's a list\n",
        "daily_sales_np = np.array(daily_sales)\n",
        "\n",
        "# Calculate the mean\n",
        "sample_mean = np.mean(daily_sales_np)\n",
        "\n",
        "# Calculate the standard deviation\n",
        "sample_std = np.std(daily_sales_np)\n",
        "\n",
        "print(f\"Sample Mean: {sample_mean}\")\n",
        "print(f\"Sample Standard Deviation: {sample_std}\")"
      ],
      "metadata": {
        "colab": {
          "base_uri": "https://localhost:8080/"
        },
        "id": "JsKLB_o90xiX",
        "outputId": "086d4f2e-eeca-4adf-e213-5b6c4f96228e"
      },
      "execution_count": 2,
      "outputs": [
        {
          "output_type": "stream",
          "name": "stdout",
          "text": [
            "Sample Mean: 208.33333333333334\n",
            "Sample Standard Deviation: 29.476921292578858\n"
          ]
        }
      ]
    },
    {
      "cell_type": "code",
      "source": [],
      "metadata": {
        "id": "PKcCPuuk1qAV"
      },
      "execution_count": null,
      "outputs": []
    }
  ]
}