{
  "nbformat": 4,
  "nbformat_minor": 0,
  "metadata": {
    "colab": {
      "provenance": []
    },
    "kernelspec": {
      "name": "python3",
      "display_name": "Python 3"
    },
    "language_info": {
      "name": "python"
    }
  },
  "cells": [
    {
      "cell_type": "markdown",
      "source": [
        "#Statistics Basics Assignmen\n",
        "\n",
        "\n",
        "Q1. What is the difference between descriptive statistics and inferential statistics? Explain with examples.\n",
        "Descriptive Statistics:\n",
        "\n",
        "- Descriptive statistics are used to summarize and describe the main features of a dataset. They help us understand the characteristics of the data, such as its center, spread, and shape. Think of it as summarizing the data you have in hand.\n",
        "\n",
        "- Examples:\n",
        "Calculating the average height of students in a class.\n",
        "Finding the median income of a city's residents.\n",
        "Creating a histogram to show the distribution of test scores.\n",
        "Determining the range of ages in a survey.\n",
        "\n",
        "Inferential Statistics:\n",
        "\n",
        "- Inferential statistics, on the other hand, are used to make inferences or draw conclusions about a larger population based on a sample of data. They help us generalize findings from a sample to a broader group and make predictions or test hypotheses. Think of it as using a sample to say something about a larger group you haven't fully measured.\n",
        "\n",
        "- Examples:\n",
        "Using a survey of a small group of voters to predict the outcome of an election.\n",
        "Testing whether a new drug is effective by comparing the health outcomes of a treatment group to a control group.\n",
        "Estimating the average lifespan of a certain species of animal based on observations of a sample.\n",
        "Determining if there is a significant difference in test scores between two different teaching methods.\n",
        "\n",
        "Q2. What is sampling in statistics? Explain the differences between random and stratified sampling.\n",
        "Sampling in Statistics:\n",
        "\n",
        "- Sampling is the process of selecting a subset of individuals or items from a larger population to gather data and make inferences about the entire population. It's often impractical or impossible to collect data from every member of a population, so sampling allows us to study a smaller, representative group instead.\n",
        "\n",
        "- The goal of sampling is to obtain a sample that accurately reflects the characteristics of the population, so that the findings from the sample can be generalized to the larger group.\n",
        "\n",
        "Random Sampling:\n",
        "\n",
        "- Random sampling is a method where every member of the population has an equal chance of being selected for the sample. This is considered a fair and unbiased method because the selection process is purely based on chance, minimizing the risk of introducing bias.\n",
        "\n",
        "- How it works: Imagine you have a list of all members of the population. You could use a random number generator to select individuals from that list until you reach your desired sample size.\n",
        "Advantages: Simple to understand and implement, helps ensure the sample is representative of the population, and allows for the calculation of sampling error.\n",
        "Disadvantages: May not be the most efficient method when the population has distinct subgroups, and may not guarantee representation of smaller subgroups.\n",
        "\n",
        "Stratified Sampling:\n",
        "\n",
        "- Stratified sampling is a method where the population is divided into subgroups (called strata) based on shared characteristics (e.g., age, gender, income level). Then, a random sample is taken from each stratum in proportion to its size in the population.\n",
        "\n",
        "- How it works: First, you identify the relevant strata in your population. Then, you determine the proportion of the population that belongs to each stratum. Finally, you randomly select individuals from each stratum in those proportions to form your sample.\n",
        "Advantages: Ensures that all important subgroups in the population are represented in the sample, which can lead to more precise estimates, especially when there are significant differences between subgroups.\n",
        "Disadvantages: Requires prior knowledge about the population to define the strata, can be more complex to implement than simple random sampling, and may require a larger sample size to maintain statistical power within each stratum.\n",
        "\n",
        "Key Differences:\n",
        "\n",
        "- Division of Population: Random sampling treats the population as a single group, while stratified sampling divides the population into subgroups (strata).\n",
        "Selection Process: Random sampling selects individuals randomly from the entire population, while stratified sampling selects individuals randomly from within each stratum.\n",
        "Representation of Subgroups: Random sampling does not guarantee representation of all subgroups, while stratified sampling ensures proportional representation of each stratum.\n",
        "\n",
        "Q3. Define mean, median, and mode. Explain why these measures of central tendency are important.\n",
        "\n",
        "- Measures of Central Tendency:\n",
        "Measures of central tendency are statistical values that represent the typical or central value in a dataset. They give us a single value that summarizes the entire distribution of data. The three most common measures are mean, median, and mode.\n",
        "\n",
        "Mean:\n",
        "- The mean, also known as the average, is calculated by summing all the values in a dataset and dividing by the number of values. It is the most commonly used measure of central tendency.\n",
        "\n",
        "- Calculation: Sum of all values / Number of values\n",
        "Example: For the dataset [2, 4, 6, 8, 10], the mean is (2 + 4 + 6 + 8 + 10) / 5 = 30 / 5 = 6.\n",
        "Importance: The mean is useful for understanding the typical value in a dataset and is used in many statistical calculations. However, it can be influenced by outliers (extreme values).\n",
        "\n",
        "Median:\n",
        "- The median is the middle value in a dataset when the values are arranged in ascending or descending order. If the dataset has an even number of values, the median is the average of the two middle values.\n",
        "\n",
        "- Calculation: Arrange the data in order and find the middle value.\n",
        "Example: For the dataset [2, 4, 6, 8, 10], the median is 6 (the middle value). For the dataset [2, 4, 6, 8], the median is (4 + 6) / 2 = 5 (the average of the two middle values).\n",
        "Importance: The median is less affected by outliers than the mean, making it a better measure of central tendency for skewed datasets.\n",
        "\n",
        "Mode:\n",
        "- The mode is the value that appears most frequently in a dataset. A dataset can have one mode (unimodal), more than one mode (multimodal), or no mode at all if all values appear with the same frequency.\n",
        "\n",
        "- Calculation: Identify the value(s) that occur most often.\n",
        "Example: For the dataset [2, 4, 6, 6, 8, 10], the mode is 6 (it appears twice, more than any other value). For the dataset [2, 4, 6, 8, 10], there is no mode (all values appear once).\n",
        "Importance: The mode is useful for understanding the most common value or category in a dataset, particularly for categorical or discrete data.\n",
        "Why are these Measures of Central Tendency Important?\n",
        "These measures are important for several reasons:\n",
        "\n",
        "- Summarizing Data: They provide a single value that summarizes the typical or central value of a dataset, making it easier to understand and interpret.\n",
        "Comparing Datasets: They allow us to compare different datasets by looking at their central tendencies. For example, we can compare the average test scores of two different classes.\n",
        "Identifying Patterns: They help us identify patterns and trends in data.\n",
        "Making Inferences: They are used in inferential statistics to make inferences about a population based on a sample.\n",
        "\n",
        "Q4. Explain skewness and kurtosis. What does a positive skew imply about the data?\n",
        "\n",
        "Skewness:\n",
        "- Skewness is a measure of the asymmetry of the probability distribution of a real-valued random variable about its mean. In simpler terms, it tells us about the shape of the distribution and whether it is skewed to one side or the other.\n",
        "\n",
        "\n",
        "- Positive Skew (Right Skew): In a positively skewed distribution, the tail of the distribution is longer on the right side. This means that there are more extreme values on the higher end of the distribution. The mean is typically greater than the median in a positively skewed distribution because the high values pull the mean towards the right.\n",
        "What a positive skew implies: A positive skew suggests that there are a few relatively high values that are pulling the average (mean) up. This can happen in datasets where there's a natural lower bound (like zero) and some values can be much larger than the majority.\n",
        "\n",
        "- Example: Income distribution is often positively skewed, with most people earning a moderate income and a small number of people earning very high incomes.\n",
        "Negative Skew (Left Skew): In a negatively skewed distribution, the tail of the distribution is longer on the left side. This means that there are more extreme values on the lower end of the distribution. The mean is typically less than the median in a negatively skewed distribution because the low values pull the mean towards the left.\n",
        "\n",
        "- Example: The distribution of exam scores can be negatively skewed if most students score high and a few students score very low.\n",
        "Zero Skew (Symmetric): In a symmetric distribution, the left and right sides of the distribution are mirror images of each other. The mean, median, and mode are typically equal in a perfectly symmetric distribution.\n",
        "Example: A normal distribution (bell curve) is a symmetric distribution.\n",
        "\n",
        "Kurtosis:\n",
        "- Kurtosis is a measure of the \"tailedness\" of the probability distribution of a real-valued random variable. It tells us how much of the distribution is in the tails compared to the center. In simpler terms, it describes the shape of the peaks and tails of a distribution.\n",
        "Leptokurtic: A distribution with high kurtosis is called leptokurtic. It has fatter tails and a sharper peak than a normal distribution. This indicates that there are more extreme values (outliers) in the distribution.\n",
        "Mesokurtic: A distribution with kurtosis similar to a normal distribution is called mesokurtic.\n",
        "Platykurtic: A distribution with low kurtosis is called platykurtic. It has thinner tails and a flatter peak than a normal distribution. This indicates that there are fewer extreme values in the distribution.\n"
      ],
      "metadata": {
        "id": "cPPSdjmffBW1"
      }
    },
    {
      "cell_type": "code",
      "execution_count": 2,
      "metadata": {
        "colab": {
          "base_uri": "https://localhost:8080/"
        },
        "id": "uMthvCxWe90h",
        "outputId": "11143c83-ac9d-45d9-d53a-ba812cebf070"
      },
      "outputs": [
        {
          "output_type": "execute_result",
          "data": {
            "text/plain": [
              "ModeResult(mode=np.int64(12), count=np.int64(3))"
            ]
          },
          "metadata": {},
          "execution_count": 2
        }
      ],
      "source": [
        "#Q5. Implement a Python program to compute the mean, median, and mode of a given list of numbers.\n",
        "\n",
        "numbers = [12, 15, 12, 18, 19, 12, 20, 22, 19, 19, 24, 24, 24, 26, 28]\n",
        "\n",
        "import numpy as np\n",
        "\n",
        "np.mean(numbers)\n",
        "\n",
        "np.median(numbers)\n",
        "\n",
        "from scipy import stats\n",
        "\n",
        "stats.mode(numbers)\n"
      ]
    },
    {
      "cell_type": "code",
      "source": [
        "#Q6. Compute the covariance and correlation coefficient between the following two datasets provided as lists in Python:\n",
        "\n",
        "list_x = [10, 20, 30, 40, 50]\n",
        "list_y = [15, 25, 35, 45, 60]\n",
        "\n",
        "import numpy as np\n",
        "\n",
        "np.cov(list_x, list_y)\n",
        "\n",
        "np.corrcoef(list_x, list_y)"
      ],
      "metadata": {
        "colab": {
          "base_uri": "https://localhost:8080/"
        },
        "id": "xhGv7MV8i042",
        "outputId": "fb7a7696-7db7-403e-9322-3444be9327d0"
      },
      "execution_count": 3,
      "outputs": [
        {
          "output_type": "execute_result",
          "data": {
            "text/plain": [
              "array([[1.        , 0.99589321],\n",
              "       [0.99589321, 1.        ]])"
            ]
          },
          "metadata": {},
          "execution_count": 3
        }
      ]
    },
    {
      "cell_type": "code",
      "source": [
        "#Q7. Write a Python script to draw a boxplot for the following numeric list and identify its outliers. Explain the result:\n",
        "\n",
        "data = [12, 14, 14, 15, 18, 19, 19, 21, 22, 22, 23, 23, 24, 26, 29, 35]\n",
        "\n",
        "import matplotlib.pyplot as plt\n",
        "\n",
        "plt.boxplot(data)\n",
        "plt.show()"
      ],
      "metadata": {
        "colab": {
          "base_uri": "https://localhost:8080/",
          "height": 430
        },
        "id": "8pyZpBIjjfSm",
        "outputId": "7a9b4a12-a712-4e91-9e52-47872c9b8e21"
      },
      "execution_count": 4,
      "outputs": [
        {
          "output_type": "display_data",
          "data": {
            "text/plain": [
              "<Figure size 640x480 with 1 Axes>"
            ],
            "image/png": "[encoded data removed]"
          },
          "metadata": {}
        }
      ]
    },
    {
      "cell_type": "code",
      "source": [
        "'''Q8. You are working as a data analyst in an e-commerce company. The marketing team wants to know if there is a relationship\n",
        "between advertising spend and daily sales.\n",
        "\n",
        "● Explain how you would use covariance and correlation to explore this\n",
        "relationship.\n",
        "● Write Python code to compute the correlation between the two lists:'''\n",
        "\n",
        "advertising_spend = [200, 250, 300, 400, 500]\n",
        "daily_sales = [2200, 2450, 2750, 3200, 4000]\n",
        "\n",
        "import numpy as np\n",
        "\n",
        "np.cov(advertising_spend, daily_sales)\n",
        "\n",
        "np.corrcoef(advertising_spend, daily_sales)\n"
      ],
      "metadata": {
        "colab": {
          "base_uri": "https://localhost:8080/"
        },
        "id": "wWaAtAICj3pe",
        "outputId": "118f3dc7-326a-4c7a-d5d4-dc33e20f92ef"
      },
      "execution_count": 5,
      "outputs": [
        {
          "output_type": "execute_result",
          "data": {
            "text/plain": [
              "array([[1.        , 0.99358241],\n",
              "       [0.99358241, 1.        ]])"
            ]
          },
          "metadata": {},
          "execution_count": 5
        }
      ]
    },
    {
      "cell_type": "code",
      "source": [
        "'''Q9. Your team has collected customer satisfaction survey data on a scale of 1-10 and wants to understand its distribution\n",
        "before launching a new product.\n",
        "\n",
        "● Explain which summary statistics and visualizations (e.g. mean, standard\n",
        "deviation, histogram) you’d use.\n",
        "● Write Python code to create a histogram using Matplotlib for the survey data:'''\n",
        "\n",
        "survey_scores = [7, 8, 5, 9, 6, 7, 8, 9, 10, 4, 7, 6, 9, 8, 7]\n",
        "\n",
        "import matplotlib.pyplot as plt\n",
        "\n",
        "plt.hist(survey_scores)\n",
        "plt.show()"
      ],
      "metadata": {
        "colab": {
          "base_uri": "https://localhost:8080/",
          "height": 430
        },
        "id": "DjeGSdOoktmz",
        "outputId": "12c5c3c1-ea15-4b54-f5a8-666f50643b16"
      },
      "execution_count": 6,
      "outputs": [
        {
          "output_type": "display_data",
          "data": {
            "text/plain": [
              "<Figure size 640x480 with 1 Axes>"
            ],
            "image/png": "[encoded data removed]"
          },
          "metadata": {}
        }
      ]
    },
    {
      "cell_type": "code",
      "source": [],
      "metadata": {
        "id": "ks5o5n4SlMyF"
      },
      "execution_count": null,
      "outputs": []
    }
  ]
}