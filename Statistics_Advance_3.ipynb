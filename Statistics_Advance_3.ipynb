{
  "nbformat": 4,
  "nbformat_minor": 0,
  "metadata": {
    "colab": {
      "provenance": []
    },
    "kernelspec": {
      "name": "python3",
      "display_name": "Python 3"
    },
    "language_info": {
      "name": "python"
    }
  },
  "cells": [
    {
      "cell_type": "markdown",
      "source": [
        "**Statistics Advance 3**\n",
        "\n",
        "Q1. What is hypothesis testing in statistics?\n",
        "- Hypothesis testing is a statistical method used to determine whether there is enough evidence in a sample data to draw conclusions about a population. It involves formulating a hypothesis about a population parameter, collecting data, and using statistical tests to assess the likelihood of observing the data if the hypothesis is true. The goal is to decide whether to reject or fail to reject the hypothesis.\n",
        "\n",
        "Q2. What is the null hypothesis, and how does it differ from the alternative hypothesis?\n",
        "- The null hypothesis ($H_0$$H_0$) is a statement of no effect or no difference. It's the hypothesis that the researcher is trying to disprove. Think of it as the default assumption.\n",
        "\n",
        "- The alternative hypothesis ($H_a$$H_a$ or $H_1$$H_1$) is the statement that there is an effect or a difference. It's what the researcher is trying to prove. It's the opposite of the null hypothesis.\n",
        "\n",
        "- For example, if you're testing a new drug, the null hypothesis might be that the drug has no effect on the illness, while the alternative hypothesis might be that the drug does have an effect. You collect data and perform statistical tests to see if there's enough evidence to reject the null hypothesis in favor of the alternative hypothesis.\n",
        "\n",
        "Q3. Explain the significance level in hypothesis testing and its role in deciding the outcome of a test.\n",
        "- The significance level ($\\alpha$$\\alpha$) in hypothesis testing is a threshold you set before conducting the test. It represents the probability of rejecting the null hypothesis when it is actually true (this is also known as a Type I error).\n",
        "\n",
        "Here's its role in deciding the outcome:\n",
        "\n",
        "- You compare the p-value (the probability of observing your data, or more extreme data, if the null hypothesis is true) to the significance level.\n",
        "If the p-value is less than or equal to the significance level ($\\text{p-value} \\le \\alpha$$\\text{p-value} \\le \\alpha$), you reject the null hypothesis. This means your results are statistically significant at that level, and there is enough evidence to support the alternative hypothesis.\n",
        "If the p-value is greater than the significance level ($\\text{p-value} > \\alpha$$\\text{p-value} > \\alpha$), you fail to reject the null hypothesis. This means your results are not statistically significant at that level, and there is not enough evidence to support the alternative hypothesis.\n",
        "\n",
        "Q4. What are Type I and Type II errors? Give examples of each.\n",
        "\n",
        "- In hypothesis testing, there are two types of errors you can make:\n",
        "\n",
        "- Type I Error (False Positive): Rejecting the null hypothesis when it is actually true. The probability of making a Type I error is equal to the significance level ($\\alpha$$\\alpha$).\n",
        "Example: A medical test for a disease incorrectly indicates that a healthy person has the disease. The null hypothesis is that the person is healthy. The test incorrectly rejects the null hypothesis.\n",
        "Type II Error (False Negative): Failing to reject the null hypothesis when it is actually false. The probability of making a Type II error is denoted by $\\beta$$\\beta$.\n",
        "\n",
        "- Example: A medical test for a disease incorrectly indicates that a sick person is healthy. The null hypothesis is that the person is healthy. The test incorrectly fails to reject the null hypothesis.\n",
        "\n",
        "Q5. What is the difference between a Z-test and a T-test? Explain when to use each.\n",
        "- Z-tests and T-tests are both statistical tests used to compare means, but they are used in different situations based on what you know about the population standard deviation and the sample size.\n",
        "\n",
        "Here's the key difference:\n",
        "\n",
        "Z-test:\n",
        "- Used when you know the population standard deviation ($\\sigma$$\\sigma$) and the sample size is large (generally $n \\ge 30$$n \\ge 30$). The Z-test uses the standard normal distribution (Z-distribution).\n",
        "\n",
        "T-test:\n",
        "- Used when you do not know the population standard deviation ($\\sigma$$\\sigma$) and you have to estimate it from the sample standard deviation ($s$$s$). It is particularly useful when the sample size is small ($n < 30$$n < 30$), but it can also be used with larger sample sizes. The T-test uses the t-distribution, which has heavier tails than the Z-distribution to account for the uncertainty introduced by estimating the population standard deviation.\n",
        "When to use each:\n",
        "\n",
        "Use a Z-test:\n",
        "- When the population standard deviation is known.\n",
        "When the sample size is large (even if the population standard deviation is unknown, the sample standard deviation becomes a good estimate for large samples).\n",
        "\n",
        "Use a T-test:\n",
        "- When the population standard deviation is unknown.\n",
        "When the sample size is small."
      ],
      "metadata": {
        "id": "BGs-xoaoCWqV"
      }
    },
    {
      "cell_type": "code",
      "execution_count": null,
      "metadata": {
        "id": "eG1dh4vwCSti"
      },
      "outputs": [],
      "source": [
        "# Q6. Write a Python program to generate a binomial distribution with n=10 and p=0.5, then plot its histogram."
      ]
    },
    {
      "cell_type": "code",
      "metadata": {
        "id": "5298c4fd"
      },
      "source": [
        "import numpy as np\n",
        "import matplotlib.pyplot as plt"
      ],
      "execution_count": 1,
      "outputs": []
    },
    {
      "cell_type": "code",
      "metadata": {
        "id": "078d5f99"
      },
      "source": [
        "binomial_sample = np.random.binomial(n=10, p=0.5, size=1000)"
      ],
      "execution_count": 2,
      "outputs": []
    },
    {
      "cell_type": "code",
      "metadata": {
        "colab": {
          "base_uri": "https://localhost:8080/",
          "height": 472
        },
        "id": "4dbd7b97",
        "outputId": "0c08fd04-8f72-41f8-ad79-dc8243df82ad"
      },
      "source": [
        "plt.hist(binomial_sample, bins=11)\n",
        "plt.title('Histogram of Binomial Distribution (n=10, p=0.5)')\n",
        "plt.xlabel('Number of Successes')\n",
        "plt.ylabel('Frequency')\n",
        "plt.show()"
      ],
      "execution_count": 3,
      "outputs": [
        {
          "output_type": "display_data",
          "data": {
            "text/plain": [
              "<Figure size 640x480 with 1 Axes>"
            ],
            "image/png": "[encoded data removed]"
          },
          "metadata": {}
        }
      ]
    },
    {
      "cell_type": "code",
      "source": [
        "'''Q7. Implement hypothesis testing using Z-statistics for a sample dataset in\n",
        "Python. Show the Python code and interpret the results.\n",
        "\n",
        "sample_data = [49.1, 50.2, 51.0, 48.7, 50.5, 49.8, 50.3, 50.7, 50.2, 49.6,\n",
        "50.1, 49.9, 50.8, 50.4, 48.9, 50.6, 50.0, 49.7, 50.2, 49.5,\n",
        "50.1, 50.3, 50.4, 50.5, 50.0, 50.7, 49.3, 49.8, 50.2, 50.9,\n",
        "50.3, 50.4, 50.0, 49.7, 50.5, 49.9]'''\n",
        "\n",
        "\n",
        "\n"
      ],
      "metadata": {
        "id": "URO77YpEGESz"
      },
      "execution_count": null,
      "outputs": []
    },
    {
      "cell_type": "code",
      "metadata": {
        "id": "928dd292"
      },
      "source": [
        "sample_data = [49.1, 50.2, 51.0, 48.7, 50.5, 49.8, 50.3, 50.7, 50.2, 49.6,\n",
        "               50.1, 49.9, 50.8, 50.4, 48.9, 50.6, 50.0, 49.7, 50.2, 49.5,\n",
        "               50.1, 50.3, 50.4, 50.5, 50.0, 50.7, 49.3, 49.8, 50.2, 50.9,\n",
        "               50.3, 50.4, 50.0, 49.7, 50.5, 49.9]\n",
        "\n",
        "population_mean = 50\n",
        "population_std_dev = 1.5"
      ],
      "execution_count": 4,
      "outputs": []
    },
    {
      "cell_type": "code",
      "source": [
        "# Null Hypothesis (H0): The sample mean is equal to the population mean.\n",
        "# H0: mu = 50\n",
        "\n",
        "# Alternative Hypothesis (H1): The sample mean is not equal to the population mean.\n",
        "# H1: mu != 50\n",
        "\n",
        "print(\"Null Hypothesis (H0): The population mean is equal to 50 (mu = 50).\")\n",
        "print(\"Alternative Hypothesis (H1): The population mean is not equal to 50 (mu != 50).\")"
      ],
      "metadata": {
        "colab": {
          "base_uri": "https://localhost:8080/"
        },
        "id": "TfMpZh3rG9cl",
        "outputId": "db73ac1a-9114-4e06-fbe9-e002fdc5b214"
      },
      "execution_count": 5,
      "outputs": [
        {
          "output_type": "stream",
          "name": "stdout",
          "text": [
            "Null Hypothesis (H0): The population mean is equal to 50 (mu = 50).\n",
            "Alternative Hypothesis (H1): The population mean is not equal to 50 (mu != 50).\n"
          ]
        }
      ]
    },
    {
      "cell_type": "code",
      "source": [
        "sample_mean = np.mean(sample_data)\n",
        "sample_size = len(sample_data)\n",
        "standard_error = population_std_dev / np.sqrt(sample_size)\n",
        "z_statistic = (sample_mean - population_mean) / standard_error\n",
        "\n",
        "print(f\"Sample Mean: {sample_mean}\")\n",
        "print(f\"Sample Size: {sample_size}\")\n",
        "print(f\"Standard Error: {standard_error}\")\n",
        "print(f\"Z-statistic: {z_statistic}\")"
      ],
      "metadata": {
        "colab": {
          "base_uri": "https://localhost:8080/"
        },
        "id": "kN3yqd1hHHZa",
        "outputId": "fb2ec02c-7111-441a-f13c-8407680661a2"
      },
      "execution_count": 6,
      "outputs": [
        {
          "output_type": "stream",
          "name": "stdout",
          "text": [
            "Sample Mean: 50.08888888888889\n",
            "Sample Size: 36\n",
            "Standard Error: 0.25\n",
            "Z-statistic: 0.3555555555555543\n"
          ]
        }
      ]
    },
    {
      "cell_type": "code",
      "source": [
        "from scipy.stats import norm\n",
        "\n",
        "alpha = 0.05  # Significance level\n",
        "p_value = 2 * norm.sf(abs(z_statistic))\n",
        "\n",
        "print(f\"Significance Level (alpha): {alpha}\")\n",
        "print(f\"P-value: {p_value}\")"
      ],
      "metadata": {
        "colab": {
          "base_uri": "https://localhost:8080/"
        },
        "id": "H0aZYhcdHPSm",
        "outputId": "7beee14d-824f-4deb-a872-1f27b8194c39"
      },
      "execution_count": 7,
      "outputs": [
        {
          "output_type": "stream",
          "name": "stdout",
          "text": [
            "Significance Level (alpha): 0.05\n",
            "P-value: 0.7221734327729123\n"
          ]
        }
      ]
    },
    {
      "cell_type": "code",
      "source": [
        "if p_value < alpha:\n",
        "    print(f\"Since the p-value ({p_value:.4f}) is less than the significance level ({alpha}), we reject the null hypothesis (H0).\")\n",
        "else:\n",
        "    print(f\"Since the p-value ({p_value:.4f}) is greater than or equal to the significance level ({alpha}), we fail to reject the null hypothesis (H0).\")"
      ],
      "metadata": {
        "colab": {
          "base_uri": "https://localhost:8080/"
        },
        "id": "-NmEGg8rHVsl",
        "outputId": "a585a2d8-9d5c-43e7-8ed7-a177d5d00c4f"
      },
      "execution_count": 8,
      "outputs": [
        {
          "output_type": "stream",
          "name": "stdout",
          "text": [
            "Since the p-value (0.7222) is greater than or equal to the significance level (0.05), we fail to reject the null hypothesis (H0).\n"
          ]
        }
      ]
    },
    {
      "cell_type": "code",
      "source": [
        "print(\"\\nInterpretation of the decision:\")\n",
        "if p_value < alpha:\n",
        "    print(f\"Based on the sample data and a significance level of {alpha}, we have sufficient evidence to reject the null hypothesis.\")\n",
        "    print(\"This means that the population mean is likely different from the hypothesized value of 50.\")\n",
        "else:\n",
        "    print(f\"Based on the sample data and a significance level of {alpha}, we do not have sufficient evidence to reject the null hypothesis.\")\n",
        "    print(\"This suggests that the population mean is not statistically different from the hypothesized value of 50 at this significance level.\")\n",
        "\n",
        "print(\"\\nRelating back to the problem:\")\n",
        "print(f\"The original problem likely involves investigating if the sample data comes from a population with a mean of 50. Our statistical test indicates that, at a {alpha*100}% significance level, the sample mean is close enough to 50 that we cannot conclude the true population mean is different from 50.\")\n",
        "\n",
        "print(\"\\nConclusion:\")\n",
        "if p_value < alpha:\n",
        "    print(f\"There is sufficient evidence at the {alpha*100}% significance level to support the alternative hypothesis that the population mean is not equal to 50.\")\n",
        "else:\n",
        "    print(f\"There is not sufficient evidence at the {alpha*100}% significance level to support the alternative hypothesis that the population mean is not equal to 50.\")"
      ],
      "metadata": {
        "colab": {
          "base_uri": "https://localhost:8080/"
        },
        "id": "Ixquc7RYHf-V",
        "outputId": "45805a48-91ef-40ae-b4b9-705fc578a27b"
      },
      "execution_count": 9,
      "outputs": [
        {
          "output_type": "stream",
          "name": "stdout",
          "text": [
            "\n",
            "Interpretation of the decision:\n",
            "Based on the sample data and a significance level of 0.05, we do not have sufficient evidence to reject the null hypothesis.\n",
            "This suggests that the population mean is not statistically different from the hypothesized value of 50 at this significance level.\n",
            "\n",
            "Relating back to the problem:\n",
            "The original problem likely involves investigating if the sample data comes from a population with a mean of 50. Our statistical test indicates that, at a 5.0% significance level, the sample mean is close enough to 50 that we cannot conclude the true population mean is different from 50.\n",
            "\n",
            "Conclusion:\n",
            "There is not sufficient evidence at the 5.0% significance level to support the alternative hypothesis that the population mean is not equal to 50.\n"
          ]
        }
      ]
    },
    {
      "cell_type": "code",
      "source": [
        "''' Q8. Write a Python script to simulate data from a normal distribution and\n",
        "calculate the 95% confidence interval for its mean. Plot the data using Matplotlib.'''\n",
        "\n",
        "import numpy as np\n",
        "import matplotlib.pyplot as plt"
      ],
      "metadata": {
        "id": "b8_YdO5aHq2U"
      },
      "execution_count": 10,
      "outputs": []
    },
    {
      "cell_type": "code",
      "source": [
        "mean = 50\n",
        "std_dev = 10\n",
        "sample_size = 100\n",
        "simulated_data = np.random.normal(loc=mean, scale=std_dev, size=sample_size)\n",
        "\n",
        "print(f\"Generated {sample_size} data points from a normal distribution with mean={mean} and standard deviation={std_dev}.\")\n",
        "print(f\"First 5 data points: {simulated_data[:5]}\")"
      ],
      "metadata": {
        "colab": {
          "base_uri": "https://localhost:8080/"
        },
        "id": "dpYuvSiHILGU",
        "outputId": "9a1e111d-8e29-470c-a072-454d94cf99b6"
      },
      "execution_count": 11,
      "outputs": [
        {
          "output_type": "stream",
          "name": "stdout",
          "text": [
            "Generated 100 data points from a normal distribution with mean=50 and standard deviation=10.\n",
            "First 5 data points: [39.77421055 47.3737635  40.64044101 57.55398225 42.242371  ]\n"
          ]
        }
      ]
    },
    {
      "cell_type": "code",
      "source": [
        "from scipy import stats\n",
        "\n",
        "sample_mean = np.mean(simulated_data)\n",
        "sample_std = np.std(simulated_data, ddof=1) # Use ddof=1 for sample standard deviation\n",
        "sample_size = len(simulated_data)\n",
        "standard_error = sample_std / np.sqrt(sample_size)\n",
        "degrees_of_freedom = sample_size - 1\n",
        "\n",
        "alpha = 0.05\n",
        "t_critical = stats.t.ppf(1 - alpha/2, degrees_of_freedom)\n",
        "\n",
        "margin_of_error = t_critical * standard_error\n",
        "\n",
        "confidence_interval_lower = sample_mean - margin_of_error\n",
        "confidence_interval_upper = sample_mean + margin_of_error\n",
        "\n",
        "print(f\"Sample Mean: {sample_mean:.4f}\")\n",
        "print(f\"Sample Standard Deviation: {sample_std:.4f}\")\n",
        "print(f\"Sample Size: {sample_size}\")\n",
        "print(f\"Standard Error: {standard_error:.4f}\")\n",
        "print(f\"Degrees of Freedom: {degrees_of_freedom}\")\n",
        "print(f\"T-critical Value (95% CI): {t_critical:.4f}\")\n",
        "print(f\"Margin of Error: {margin_of_error:.4f}\")\n",
        "print(f\"95% Confidence Interval: ({confidence_interval_lower:.4f}, {confidence_interval_upper:.4f})\")"
      ],
      "metadata": {
        "colab": {
          "base_uri": "https://localhost:8080/"
        },
        "id": "CetWEEf2ITyL",
        "outputId": "3df8a9b3-65ae-4415-ae40-05d64d4ac11c"
      },
      "execution_count": 12,
      "outputs": [
        {
          "output_type": "stream",
          "name": "stdout",
          "text": [
            "Sample Mean: 49.5546\n",
            "Sample Standard Deviation: 11.0494\n",
            "Sample Size: 100\n",
            "Standard Error: 1.1049\n",
            "Degrees of Freedom: 99\n",
            "T-critical Value (95% CI): 1.9842\n",
            "Margin of Error: 2.1924\n",
            "95% Confidence Interval: (47.3622, 51.7471)\n"
          ]
        }
      ]
    },
    {
      "cell_type": "code",
      "source": [
        "plt.figure(figsize=(10, 6))\n",
        "plt.hist(simulated_data, bins=20, edgecolor='black')\n",
        "plt.title('Histogram of Simulated Normal Distribution Data')\n",
        "plt.xlabel('Value')\n",
        "plt.ylabel('Frequency')\n",
        "plt.grid(axis='y', alpha=0.75)\n",
        "plt.show()"
      ],
      "metadata": {
        "colab": {
          "base_uri": "https://localhost:8080/",
          "height": 564
        },
        "id": "TVDGpaMtIiID",
        "outputId": "4e2e8612-8453-49de-ad9f-1caa6b500bd2"
      },
      "execution_count": 13,
      "outputs": [
        {
          "output_type": "display_data",
          "data": {
            "text/plain": [
              "<Figure size 1000x600 with 1 Axes>"
            ],
            "image/png": "[encoded data removed]"
          },
          "metadata": {}
        }
      ]
    },
    {
      "cell_type": "code",
      "source": [
        "print(\"\\nInterpretation of the 95% Confidence Interval:\")\n",
        "print(f\"The calculated 95% confidence interval for the mean of the simulated data is ({confidence_interval_lower:.4f}, {confidence_interval_upper:.4f}).\")\n",
        "print(\"This means that we are 95% confident that the true population mean from which this sample was drawn lies within this range.\")\n",
        "\n",
        "print(\"\\nRelating to the True Population Mean:\")\n",
        "print(f\"The true population mean used for the simulation was {mean}.\")\n",
        "\n",
        "if confidence_interval_lower <= mean <= confidence_interval_upper:\n",
        "    print(f\"The true population mean ({mean}) falls within the calculated 95% confidence interval.\")\n",
        "    print(\"This is expected, as a 95% confidence interval should contain the true population mean in approximately 95% of samples.\")\n",
        "else:\n",
        "    print(f\"The true population mean ({mean}) falls outside the calculated 95% confidence interval.\")\n",
        "    print(\"While this is possible, it would occur in approximately 5% of samples when using a 95% confidence interval.\")"
      ],
      "metadata": {
        "colab": {
          "base_uri": "https://localhost:8080/"
        },
        "id": "V77aSgWbIs5w",
        "outputId": "85eced1a-9efc-47e2-e8e3-4ba938db1996"
      },
      "execution_count": 14,
      "outputs": [
        {
          "output_type": "stream",
          "name": "stdout",
          "text": [
            "\n",
            "Interpretation of the 95% Confidence Interval:\n",
            "The calculated 95% confidence interval for the mean of the simulated data is (47.3622, 51.7471).\n",
            "This means that we are 95% confident that the true population mean from which this sample was drawn lies within this range.\n",
            "\n",
            "Relating to the True Population Mean:\n",
            "The true population mean used for the simulation was 50.\n",
            "The true population mean (50) falls within the calculated 95% confidence interval.\n",
            "This is expected, as a 95% confidence interval should contain the true population mean in approximately 95% of samples.\n"
          ]
        }
      ]
    },
    {
      "cell_type": "code",
      "source": [
        "''' Q9. Write a Python function to calculate the Z-scores from a dataset and\n",
        "visualize the standardized data using a histogram. Explain what the Z-scores represent\n",
        "in terms of standard deviations from the mean.'''\n",
        "\n",
        "import numpy as np\n",
        "import matplotlib.pyplot as plt"
      ],
      "metadata": {
        "id": "4j_HEf5wIyqD"
      },
      "execution_count": 15,
      "outputs": []
    },
    {
      "cell_type": "code",
      "source": [
        "def calculate_z_scores(data):\n",
        "  \"\"\"\n",
        "  Calculates the Z-score for each data point in a dataset.\n",
        "\n",
        "  Args:\n",
        "    data: A list or numpy array of numerical data.\n",
        "\n",
        "  Returns:\n",
        "    A numpy array of calculated Z-scores.\n",
        "  \"\"\"\n",
        "  mean = np.mean(data)\n",
        "  std_dev = np.std(data, ddof=1) # Using ddof=1 for sample standard deviation\n",
        "  z_scores = (data - mean) / std_dev\n",
        "  return z_scores"
      ],
      "metadata": {
        "id": "h0FlBrTqJJIf"
      },
      "execution_count": 17,
      "outputs": []
    },
    {
      "cell_type": "code",
      "source": [
        "sample_data = np.random.normal(loc=50, scale=10, size=100)\n",
        "print(f\"First 5 elements of the generated sample data: {sample_data[:5]}\")"
      ],
      "metadata": {
        "colab": {
          "base_uri": "https://localhost:8080/"
        },
        "id": "ZD2uXn2wJOlO",
        "outputId": "d97862f0-1f76-492e-a94a-80b84220aea8"
      },
      "execution_count": 18,
      "outputs": [
        {
          "output_type": "stream",
          "name": "stdout",
          "text": [
            "First 5 elements of the generated sample data: [59.25082082 38.95045229 49.6391726  43.93285803 61.21984528]\n"
          ]
        }
      ]
    },
    {
      "cell_type": "code",
      "source": [
        "z_scores = calculate_z_scores(sample_data)\n",
        "print(f\"First 5 calculated Z-scores: {z_scores[:5]}\")"
      ],
      "metadata": {
        "colab": {
          "base_uri": "https://localhost:8080/"
        },
        "id": "yO_5lUJMJgxv",
        "outputId": "2d402d39-ce54-4c2e-8d4f-6541be12927d"
      },
      "execution_count": 19,
      "outputs": [
        {
          "output_type": "stream",
          "name": "stdout",
          "text": [
            "First 5 calculated Z-scores: [ 1.12466448 -0.94308124  0.14564558 -0.43558562  1.32522448]\n"
          ]
        }
      ]
    },
    {
      "cell_type": "code",
      "source": [
        "plt.figure(figsize=(10, 6))\n",
        "plt.hist(z_scores, bins=30, edgecolor='black')\n",
        "plt.title('Histogram of Z-scores')\n",
        "plt.xlabel('Z-score')\n",
        "plt.ylabel('Frequency')\n",
        "plt.grid(axis='y', alpha=0.75)\n",
        "plt.show()"
      ],
      "metadata": {
        "colab": {
          "base_uri": "https://localhost:8080/",
          "height": 564
        },
        "id": "LZ9B48mFJnvl",
        "outputId": "d0fec7e4-2f4e-4a53-a3cf-2a84fdab3154"
      },
      "execution_count": 20,
      "outputs": [
        {
          "output_type": "display_data",
          "data": {
            "text/plain": [
              "<Figure size 1000x600 with 1 Axes>"
            ],
            "image/png": "[encoded data removed]"
          },
          "metadata": {}
        }
      ]
    },
    {
      "cell_type": "code",
      "source": [
        "print(\"What Z-scores Represent:\")\n",
        "print(\"A Z-score measures how many standard deviations a particular data point is away from the mean of the dataset.\")\n",
        "print(\"- A Z-score of 0 means the data point is exactly at the mean.\")\n",
        "print(\"- A positive Z-score indicates the data point is above the mean.\")\n",
        "print(\"- A negative Z-score indicates the data point is below the mean.\")\n",
        "print(\"For example, a Z-score of 1.5 means the data point is 1.5 standard deviations above the mean.\")\n",
        "print(\"Z-scores are useful for comparing data points from different datasets with different scales, as they standardize the data to a common scale (the standard normal distribution).\")"
      ],
      "metadata": {
        "colab": {
          "base_uri": "https://localhost:8080/"
        },
        "id": "bWdg5nN_JtPm",
        "outputId": "036faabc-ac6e-42cd-c7a8-e58a0491fd1e"
      },
      "execution_count": 21,
      "outputs": [
        {
          "output_type": "stream",
          "name": "stdout",
          "text": [
            "What Z-scores Represent:\n",
            "A Z-score measures how many standard deviations a particular data point is away from the mean of the dataset.\n",
            "- A Z-score of 0 means the data point is exactly at the mean.\n",
            "- A positive Z-score indicates the data point is above the mean.\n",
            "- A negative Z-score indicates the data point is below the mean.\n",
            "For example, a Z-score of 1.5 means the data point is 1.5 standard deviations above the mean.\n",
            "Z-scores are useful for comparing data points from different datasets with different scales, as they standardize the data to a common scale (the standard normal distribution).\n"
          ]
        }
      ]
    },
    {
      "cell_type": "code",
      "source": [],
      "metadata": {
        "id": "HNIw5tE4Jz7F"
      },
      "execution_count": null,
      "outputs": []
    }
  ]
}