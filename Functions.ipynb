{
  "nbformat": 4,
  "nbformat_minor": 0,
  "metadata": {
    "colab": {
      "provenance": []
    },
    "kernelspec": {
      "name": "python3",
      "display_name": "Python 3"
    },
    "language_info": {
      "name": "python"
    }
  },
  "cells": [
    {
      "cell_type": "code",
      "execution_count": 1,
      "metadata": {
        "colab": {
          "base_uri": "https://localhost:8080/"
        },
        "id": "FHokAJS5dfUx",
        "outputId": "d492241a-f212-4858-9ec2-4dc6095a8e55"
      },
      "outputs": [
        {
          "output_type": "stream",
          "name": "stdout",
          "text": [
            "20\n"
          ]
        }
      ],
      "source": [
        "# 1. Write a Python function that takes a list of numbers as input and returns the sum of all even numbers in the list.\n",
        "\n",
        "def sum_of_even_numbers(numbers_list):\n",
        "  even_sum = 0\n",
        "  for number in numbers_list:\n",
        "    if number % 2 == 0:\n",
        "      even_sum += number\n",
        "  return even_sum\n",
        "\n",
        "numbers = [1, 2, 3, 4, 5, 6, 7, 8, 9]\n",
        "result = sum_of_even_numbers(numbers)\n",
        "print(result)"
      ]
    },
    {
      "cell_type": "code",
      "source": [
        "# 2.Create a Python function that accepts a string and returns the reverse of that string.\n",
        "\n",
        "def reverse_string(string):\n",
        "  reversed_string = \"\"\n",
        "  for i in range(len(string) - 1, -1, -1):\n",
        "    reversed_string += string[i]\n",
        "  return reversed_string\n",
        "\n",
        "string = \"Hello, World!\"\n",
        "result = reverse_string(string)\n",
        "print(result)"
      ],
      "metadata": {
        "colab": {
          "base_uri": "https://localhost:8080/"
        },
        "id": "9uyToPyvemsP",
        "outputId": "01597780-45dd-4a65-82ee-2c1cafb4628d"
      },
      "execution_count": 2,
      "outputs": [
        {
          "output_type": "stream",
          "name": "stdout",
          "text": [
            "!dlroW ,olleH\n"
          ]
        }
      ]
    },
    {
      "cell_type": "code",
      "source": [
        "# 3.Implement a Python function that takes a list of integers and returns a new list containing the squares of each number.\n",
        "\n",
        "def square_numbers(numbers_list):\n",
        "  squared_numbers = []\n",
        "  for number in numbers_list:\n",
        "    squared_numbers.append(number ** 2)\n",
        "  return squared_numbers\n",
        "\n",
        "numbers = [1, 2, 3, 4, 5]\n",
        "result = square_numbers(numbers)\n",
        "print(result)"
      ],
      "metadata": {
        "colab": {
          "base_uri": "https://localhost:8080/"
        },
        "id": "Nm3X0RkXfXcz",
        "outputId": "ab065fc8-5cd5-4ecf-c4ac-7a4acd1ad9ae"
      },
      "execution_count": 3,
      "outputs": [
        {
          "output_type": "stream",
          "name": "stdout",
          "text": [
            "[1, 4, 9, 16, 25]\n"
          ]
        }
      ]
    },
    {
      "cell_type": "code",
      "source": [
        "# 4.Write a Python function that checks if a given number is prime or not from 1 to 200.\n",
        "\n",
        "def is_prime(number):\n",
        "  if number < 2:\n",
        "    return False\n",
        "  for i in range(2, int(number ** 0.5) + 1):\n",
        "    if number % i == 0:\n",
        "      return False\n",
        "  return True\n",
        "\n",
        "for number in range(1, 201):\n",
        "  if is_prime(number):\n",
        "    print(number)"
      ],
      "metadata": {
        "colab": {
          "base_uri": "https://localhost:8080/"
        },
        "id": "o81eR4vSgCIJ",
        "outputId": "2b378cd4-7778-4e8c-c551-7c07a6a9c3eb"
      },
      "execution_count": 4,
      "outputs": [
        {
          "output_type": "stream",
          "name": "stdout",
          "text": [
            "2\n",
            "3\n",
            "5\n",
            "7\n",
            "11\n",
            "13\n",
            "17\n",
            "19\n",
            "23\n",
            "29\n",
            "31\n",
            "37\n",
            "41\n",
            "43\n",
            "47\n",
            "53\n",
            "59\n",
            "61\n",
            "67\n",
            "71\n",
            "73\n",
            "79\n",
            "83\n",
            "89\n",
            "97\n",
            "101\n",
            "103\n",
            "107\n",
            "109\n",
            "113\n",
            "127\n",
            "131\n",
            "137\n",
            "139\n",
            "149\n",
            "151\n",
            "157\n",
            "163\n",
            "167\n",
            "173\n",
            "179\n",
            "181\n",
            "191\n",
            "193\n",
            "197\n",
            "199\n"
          ]
        }
      ]
    },
    {
      "cell_type": "code",
      "source": [
        "# 5. Create an iterator class in Python that generates the Fibonacci sequence up to a specified number of terms.\n",
        "\n",
        "# Create an instance of the FibonacciIterator class\n",
        "fib_iterator = FibonacciIterator(10)\n",
        "\n",
        "# Iterate using a for loop\n",
        "print(\"Iterating using a for loop:\")\n",
        "for fib_num in fib_iterator:\n",
        "    print(fib_num)\n",
        "\n",
        "# Create a new instance to demonstrate next()\n",
        "fib_iterator_next = FibonacciIterator(5)\n",
        "\n",
        "# Iterate using next() with try...except\n",
        "print(\"\\nIterating using next():\")\n",
        "try:\n",
        "    print(next(fib_iterator_next))\n",
        "    print(next(fib_iterator_next))\n",
        "    print(next(fib_iterator_next))\n",
        "    print(next(fib_iterator_next))\n",
        "    print(next(fib_iterator_next))\n",
        "    print(next(fib_iterator_next)) # This will raise StopIteration\n",
        "except StopIteration:\n",
        "    print(\"End of sequence reached.\")"
      ],
      "metadata": {
        "colab": {
          "base_uri": "https://localhost:8080/",
          "height": 211
        },
        "id": "XDIxqG7Ygpt5",
        "outputId": "dc0cb394-d0c5-4b5f-cab6-b09c8cc4386b"
      },
      "execution_count": 6,
      "outputs": [
        {
          "output_type": "error",
          "ename": "NameError",
          "evalue": "name 'FibonacciIterator' is not defined",
          "traceback": [
            "\u001b[0;31m---------------------------------------------------------------------------\u001b[0m",
            "\u001b[0;31mNameError\u001b[0m                                 Traceback (most recent call last)",
            "\u001b[0;32m/tmp/ipython-input-3222657172.py\u001b[0m in \u001b[0;36m<cell line: 0>\u001b[0;34m()\u001b[0m\n\u001b[1;32m      2\u001b[0m \u001b[0;34m\u001b[0m\u001b[0m\n\u001b[1;32m      3\u001b[0m \u001b[0;31m# Create an instance of the FibonacciIterator class\u001b[0m\u001b[0;34m\u001b[0m\u001b[0;34m\u001b[0m\u001b[0m\n\u001b[0;32m----> 4\u001b[0;31m \u001b[0mfib_iterator\u001b[0m \u001b[0;34m=\u001b[0m \u001b[0mFibonacciIterator\u001b[0m\u001b[0;34m(\u001b[0m\u001b[0;36m10\u001b[0m\u001b[0;34m)\u001b[0m\u001b[0;34m\u001b[0m\u001b[0;34m\u001b[0m\u001b[0m\n\u001b[0m\u001b[1;32m      5\u001b[0m \u001b[0;34m\u001b[0m\u001b[0m\n\u001b[1;32m      6\u001b[0m \u001b[0;31m# Iterate using a for loop\u001b[0m\u001b[0;34m\u001b[0m\u001b[0;34m\u001b[0m\u001b[0m\n",
            "\u001b[0;31mNameError\u001b[0m: name 'FibonacciIterator' is not defined"
          ]
        }
      ]
    },
    {
      "cell_type": "code",
      "source": [
        "# 6. Write a generator function in Python that yields the powers of 2 up to a given exponent.\n",
        "\n",
        "def power_of_two(exponent):\n",
        "  for i in range(exponent + 1):\n",
        "    yield 2 ** i\n",
        "\n",
        "power_of_two_generator = power_of_two(5)\n",
        "\n",
        "for power in power_of_two_generator:\n",
        "  print(power)"
      ],
      "metadata": {
        "colab": {
          "base_uri": "https://localhost:8080/"
        },
        "id": "qy_NtUAHhymU",
        "outputId": "2f22ca18-b3fe-45a3-d533-9d0974737a8e"
      },
      "execution_count": 7,
      "outputs": [
        {
          "output_type": "stream",
          "name": "stdout",
          "text": [
            "1\n",
            "2\n",
            "4\n",
            "8\n",
            "16\n",
            "32\n"
          ]
        }
      ]
    },
    {
      "cell_type": "code",
      "source": [
        "# 7. Implement a generator function that reads a file line by line and yields each line as a string.\n",
        "\n",
        "def read_file_lines(file_path):\n",
        "  with open(file_path, 'r') as file:\n",
        "    for line in file:\n",
        "      yield line\n",
        "\n",
        "file_path = 'example.txt'\n",
        "file_lines_generator = read_file_lines(file_path)\n",
        "\n",
        "for line in file_lines_generator:\n",
        "  print(line.strip())"
      ],
      "metadata": {
        "colab": {
          "base_uri": "https://localhost:8080/",
          "height": 315
        },
        "id": "W6fEN_xsil-1",
        "outputId": "472c80e0-f6f6-4988-e2ea-a6b52057d676"
      },
      "execution_count": 9,
      "outputs": [
        {
          "output_type": "error",
          "ename": "FileNotFoundError",
          "evalue": "[Errno 2] No such file or directory: 'example.txt'",
          "traceback": [
            "\u001b[0;31m---------------------------------------------------------------------------\u001b[0m",
            "\u001b[0;31mFileNotFoundError\u001b[0m                         Traceback (most recent call last)",
            "\u001b[0;32m/tmp/ipython-input-536622975.py\u001b[0m in \u001b[0;36m<cell line: 0>\u001b[0;34m()\u001b[0m\n\u001b[1;32m      9\u001b[0m \u001b[0mfile_lines_generator\u001b[0m \u001b[0;34m=\u001b[0m \u001b[0mread_file_lines\u001b[0m\u001b[0;34m(\u001b[0m\u001b[0mfile_path\u001b[0m\u001b[0;34m)\u001b[0m\u001b[0;34m\u001b[0m\u001b[0;34m\u001b[0m\u001b[0m\n\u001b[1;32m     10\u001b[0m \u001b[0;34m\u001b[0m\u001b[0m\n\u001b[0;32m---> 11\u001b[0;31m \u001b[0;32mfor\u001b[0m \u001b[0mline\u001b[0m \u001b[0;32min\u001b[0m \u001b[0mfile_lines_generator\u001b[0m\u001b[0;34m:\u001b[0m\u001b[0;34m\u001b[0m\u001b[0;34m\u001b[0m\u001b[0m\n\u001b[0m\u001b[1;32m     12\u001b[0m   \u001b[0mprint\u001b[0m\u001b[0;34m(\u001b[0m\u001b[0mline\u001b[0m\u001b[0;34m.\u001b[0m\u001b[0mstrip\u001b[0m\u001b[0;34m(\u001b[0m\u001b[0;34m)\u001b[0m\u001b[0;34m)\u001b[0m\u001b[0;34m\u001b[0m\u001b[0;34m\u001b[0m\u001b[0m\n",
            "\u001b[0;32m/tmp/ipython-input-536622975.py\u001b[0m in \u001b[0;36mread_file_lines\u001b[0;34m(file_path)\u001b[0m\n\u001b[1;32m      2\u001b[0m \u001b[0;34m\u001b[0m\u001b[0m\n\u001b[1;32m      3\u001b[0m \u001b[0;32mdef\u001b[0m \u001b[0mread_file_lines\u001b[0m\u001b[0;34m(\u001b[0m\u001b[0mfile_path\u001b[0m\u001b[0;34m)\u001b[0m\u001b[0;34m:\u001b[0m\u001b[0;34m\u001b[0m\u001b[0;34m\u001b[0m\u001b[0m\n\u001b[0;32m----> 4\u001b[0;31m   \u001b[0;32mwith\u001b[0m \u001b[0mopen\u001b[0m\u001b[0;34m(\u001b[0m\u001b[0mfile_path\u001b[0m\u001b[0;34m,\u001b[0m \u001b[0;34m'r'\u001b[0m\u001b[0;34m)\u001b[0m \u001b[0;32mas\u001b[0m \u001b[0mfile\u001b[0m\u001b[0;34m:\u001b[0m\u001b[0;34m\u001b[0m\u001b[0;34m\u001b[0m\u001b[0m\n\u001b[0m\u001b[1;32m      5\u001b[0m     \u001b[0;32mfor\u001b[0m \u001b[0mline\u001b[0m \u001b[0;32min\u001b[0m \u001b[0mfile\u001b[0m\u001b[0;34m:\u001b[0m\u001b[0;34m\u001b[0m\u001b[0;34m\u001b[0m\u001b[0m\n\u001b[1;32m      6\u001b[0m       \u001b[0;32myield\u001b[0m \u001b[0mline\u001b[0m\u001b[0;34m\u001b[0m\u001b[0;34m\u001b[0m\u001b[0m\n",
            "\u001b[0;31mFileNotFoundError\u001b[0m: [Errno 2] No such file or directory: 'example.txt'"
          ]
        }
      ]
    },
    {
      "cell_type": "code",
      "source": [
        "# 8.Use a lambda function in Python to sort a list of tuples based on the second element of each tuple.\n",
        "\n",
        "my_list_of_tuples = [(1, 'banana'), (3, 'apple'), (2, 'cherry'), (4, 'date')]\n",
        "\n",
        "# Use sorted() with a lambda function as the key\n",
        "# The lambda function takes a tuple 'x' and returns its second element (x[1])\n",
        "sorted_list = sorted(my_list_of_tuples, key=lambda x: x[1])\n",
        "\n",
        "print(f\"Original list: {my_list_of_tuples}\")\n",
        "print(f\"Sorted list by second element: {sorted_list}\")\n",
        "\n",
        "# You can also use the .sort() method for in-place sorting\n",
        "another_list_of_tuples = [(5, 'grape'), (7, 'fig'), (6, 'elderberry')]\n",
        "another_list_of_tuples.sort(key=lambda x: x[1])\n",
        "\n",
        "print(f\"\\nOriginal list (for .sort()): {[(5, 'grape'), (7, 'fig'), (6, 'elderberry')]}\")\n",
        "print(f\"Sorted list in-place by second element: {another_list_of_tuples}\")"
      ],
      "metadata": {
        "colab": {
          "base_uri": "https://localhost:8080/"
        },
        "id": "cd-xFsJBixgY",
        "outputId": "6b9184ae-60c6-49bb-a307-311fcf1b3f6d"
      },
      "execution_count": 10,
      "outputs": [
        {
          "output_type": "stream",
          "name": "stdout",
          "text": [
            "Original list: [(1, 'banana'), (3, 'apple'), (2, 'cherry'), (4, 'date')]\n",
            "Sorted list by second element: [(3, 'apple'), (1, 'banana'), (2, 'cherry'), (4, 'date')]\n",
            "\n",
            "Original list (for .sort()): [(5, 'grape'), (7, 'fig'), (6, 'elderberry')]\n",
            "Sorted list in-place by second element: [(6, 'elderberry'), (7, 'fig'), (5, 'grape')]\n"
          ]
        }
      ]
    },
    {
      "cell_type": "code",
      "source": [
        "# 9. Write a Python program that uses `map()` to convert a list of temperatures from Celsius to Fahrenheit.\n",
        "\n",
        "# List of temperatures in Celsius\n",
        "celsius_temperatures = [0, 10, 20, 30, 40, 100]\n",
        "\n",
        "# Function to convert Celsius to Fahrenheit\n",
        "def celsius_to_fahrenheit(celsius):\n",
        "  return (celsius * 9/5) + 32\n",
        "\n",
        "# Use map() to apply the conversion function to each Celsius temperature\n",
        "fahrenheit_temperatures_iterator = map(celsius_to_fahrenheit, celsius_temperatures)\n",
        "\n",
        "# Convert the map object to a list to see the results\n",
        "fahrenheit_temperatures_list = list(fahrenheit_temperatures_iterator)\n",
        "\n",
        "print(f\"Celsius temperatures: {celsius_temperatures}\")\n",
        "print(f\"Fahrenheit temperatures: {fahrenheit_temperatures_list}\")\n",
        "\n",
        "# You can also use a lambda function directly with map()\n",
        "fahrenheit_temperatures_lambda = list(map(lambda c: (c * 9/5) + 32, celsius_temperatures))\n",
        "print(f\"Fahrenheit temperatures (using lambda): {fahrenheit_temperatures_lambda}\")"
      ],
      "metadata": {
        "colab": {
          "base_uri": "https://localhost:8080/"
        },
        "id": "QLlwDV89jgpR",
        "outputId": "4856951e-bca1-4a26-deaf-842ade233611"
      },
      "execution_count": 11,
      "outputs": [
        {
          "output_type": "stream",
          "name": "stdout",
          "text": [
            "Celsius temperatures: [0, 10, 20, 30, 40, 100]\n",
            "Fahrenheit temperatures: [32.0, 50.0, 68.0, 86.0, 104.0, 212.0]\n",
            "Fahrenheit temperatures (using lambda): [32.0, 50.0, 68.0, 86.0, 104.0, 212.0]\n"
          ]
        }
      ]
    },
    {
      "cell_type": "code",
      "source": [
        "# 10. Create a Python program that uses `filter()` to remove all the vowels from a given string.\n",
        "\n",
        "# The input string\n",
        "input_string = \"Hello, World! This is a test string.\"\n",
        "\n",
        "# Define a function to check if a character is NOT a vowel\n",
        "def is_not_vowel(character):\n",
        "  vowels = \"aeiouAEIOU\"\n",
        "  return character not in vowels\n",
        "\n",
        "# Use filter() to keep only the characters that are not vowels\n",
        "filtered_characters_iterator = filter(is_not_vowel, input_string)\n",
        "\n",
        "# Join the filtered characters back into a string\n",
        "string_without_vowels = \"\".join(filtered_characters_iterator)\n",
        "\n",
        "print(f\"Original string: {input_string}\")\n",
        "print(f\"String without vowels: {string_without_vowels}\")\n",
        "\n",
        "# You can also use a lambda function with filter()\n",
        "string_without_vowels_lambda = \"\".join(filter(lambda char: char.lower() not in \"aeiou\", input_string))\n",
        "print(f\"String without vowels (using lambda): {string_without_vowels_lambda}\")\n"
      ],
      "metadata": {
        "colab": {
          "base_uri": "https://localhost:8080/"
        },
        "id": "Mlg5FgVYj12n",
        "outputId": "c707e75a-2c6f-4220-b3d9-861310a3a105"
      },
      "execution_count": 12,
      "outputs": [
        {
          "output_type": "stream",
          "name": "stdout",
          "text": [
            "Original string: Hello, World! This is a test string.\n",
            "String without vowels: Hll, Wrld! Ths s  tst strng.\n",
            "String without vowels (using lambda): Hll, Wrld! Ths s  tst strng.\n"
          ]
        }
      ]
    },
    {
      "cell_type": "code",
      "source": [
        "# 11. Imagine an accounting routine used in a book shop. It works on a list with sublists, which look like this.\n",
        "\n",
        "book_sales = [\n",
        "    ['The Hitchhiker\\'s Guide to the Galaxy', 'Douglas Adams', 1979, 9.99, 150],\n",
        "    ['Pride and Prejudice', 'Jane Austen', 1813, 7.50, 200],\n",
        "    ['1984', 'George Orwell', 1949, 12.00, 180],\n",
        "    ['To Kill a Mockingbird', 'Harper Lee', 1960, 10.50, 220],\n",
        "    ['The Great Gatsby', 'F. Scott Fitzgerald', 1925, 8.75, 160],\n",
        "    ['Moby Dick', 'Herman Melville', 1851, 11.20, 130]\n",
        "]\n",
        "\n",
        "print(book_sales)\n",
        "\n",
        "total_revenue = 0.0\n",
        "\n",
        "for book_entry in book_sales:\n",
        "    price = book_entry[3]\n",
        "    copies_sold = book_entry[4]\n",
        "    revenue = price * copies_sold\n",
        "    total_revenue += revenue\n",
        "\n",
        "print(f\"The total revenue from book sales is: ${total_revenue:.2f}\")"
      ],
      "metadata": {
        "colab": {
          "base_uri": "https://localhost:8080/"
        },
        "id": "pH909Bf1kRSx",
        "outputId": "e675e0bd-8965-48b6-8184-5e95c4c75fe9"
      },
      "execution_count": 14,
      "outputs": [
        {
          "output_type": "stream",
          "name": "stdout",
          "text": [
            "[[\"The Hitchhiker's Guide to the Galaxy\", 'Douglas Adams', 1979, 9.99, 150], ['Pride and Prejudice', 'Jane Austen', 1813, 7.5, 200], ['1984', 'George Orwell', 1949, 12.0, 180], ['To Kill a Mockingbird', 'Harper Lee', 1960, 10.5, 220], ['The Great Gatsby', 'F. Scott Fitzgerald', 1925, 8.75, 160], ['Moby Dick', 'Herman Melville', 1851, 11.2, 130]]\n",
            "The total revenue from book sales is: $10324.50\n"
          ]
        }
      ]
    },
    {
      "cell_type": "code",
      "source": [],
      "metadata": {
        "id": "j7ZwhFaSk3k9"
      },
      "execution_count": null,
      "outputs": []
    }
  ]
}